{
 "cells": [
  {
   "cell_type": "markdown",
   "metadata": {},
   "source": [
    "# Previsão de Preços de Frutas e Vegetais com Redes Neurais Recorrentes (RNN)\n",
    "\n",
    "## Introdução\n",
    "Neste notebook, iremos utilizar uma Rede Neural Recorrente (RNN) para prever os preços de frutas e vegetais a partir de dados históricos contidos no dataset \"Fruits and Vegetables Prices Dataset\". O objetivo é demonstrar como podemos aplicar técnicas de deep learning em séries temporais para capturar padrões e tendências nos preços ao longo do tempo.\n",
    "\n",
    "## Objetivos\n",
    "- Implementar uma RNN do zero para realizar previsões de preços.\n",
    "- Explorar e analisar os dados históricos do dataset.\n",
    "- Avaliar o desempenho do modelo e discutir possíveis melhorias."
   ]
  },
  {
   "cell_type": "markdown",
   "metadata": {},
   "source": [
    "## Bibliotecas e Configurações Iniciais\n",
    "Nesta seção, serão importadas as bibliotecas necessárias (como `pandas`, `numpy`, e um framework de deep learning, por exemplo, PyTorch ou TensorFlow) e realizadas as configurações iniciais, como definição de semente para reprodutibilidade e configuração do ambiente de trabalho.\n"
   ]
  },
  {
   "cell_type": "markdown",
   "metadata": {},
   "source": [
    "## Carregamento e Exploração do Dataset\n",
    "- **Carregamento dos Dados:** Leitura do dataset (por exemplo, de um arquivo CSV) contendo os preços históricos de frutas e vegetais.\n",
    "- **Exploração Inicial:** Exibição das primeiras linhas, análise de informações gerais (dimensões, tipos de dados, valores ausentes) e visualização de gráficos para entender a evolução dos preços ao longo do tempo."
   ]
  },
  {
   "cell_type": "code",
   "execution_count": 11,
   "metadata": {},
   "outputs": [
    {
     "name": "stderr",
     "output_type": "stream",
     "text": [
      "WARNING:absl:WARNING: The JSON-LD `@context` is not standard. Refer to the official @context (e.g., from the example datasets in https://github.com/mlcommons/croissant/tree/main/datasets/1.0). The different keys are: {'rai', 'examples'}\n",
      "WARNING:absl:Found the following 1 warning(s) during the validation:\n",
      "  -  [Metadata(Fruits and Vegetables Prices Dataset)] Property \"http://mlcommons.org/croissant/citeAs\" is recommended, but does not exist.\n"
     ]
    },
    {
     "name": "stdout",
     "output_type": "stream",
     "text": [
      "[RecordSet(uuid=\"ProductPriceIndex.csv\")]\n"
     ]
    },
    {
     "name": "stderr",
     "output_type": "stream",
     "text": [
      "Downloading https://www.kaggle.com/api/v1/datasets/download/everydaycodings/produce-prices-dataset?datasetVersionNumber=2...: 100%|██████████| 232k/232k [00:00<00:00, 455kiB/s] \n"
     ]
    },
    {
     "data": {
      "text/html": [
       "<div>\n",
       "<style scoped>\n",
       "    .dataframe tbody tr th:only-of-type {\n",
       "        vertical-align: middle;\n",
       "    }\n",
       "\n",
       "    .dataframe tbody tr th {\n",
       "        vertical-align: top;\n",
       "    }\n",
       "\n",
       "    .dataframe thead th {\n",
       "        text-align: right;\n",
       "    }\n",
       "</style>\n",
       "<table border=\"1\" class=\"dataframe\">\n",
       "  <thead>\n",
       "    <tr style=\"text-align: right;\">\n",
       "      <th></th>\n",
       "      <th>ProductPriceIndex.csv/productname</th>\n",
       "      <th>ProductPriceIndex.csv/date</th>\n",
       "      <th>ProductPriceIndex.csv/farmprice</th>\n",
       "      <th>ProductPriceIndex.csv/atlantaretail</th>\n",
       "      <th>ProductPriceIndex.csv/chicagoretail</th>\n",
       "      <th>ProductPriceIndex.csv/losangelesretail</th>\n",
       "      <th>ProductPriceIndex.csv/newyorkretail</th>\n",
       "      <th>ProductPriceIndex.csv/averagespread</th>\n",
       "    </tr>\n",
       "  </thead>\n",
       "  <tbody>\n",
       "    <tr>\n",
       "      <th>0</th>\n",
       "      <td>b'Strawberries'</td>\n",
       "      <td>2019-05-19</td>\n",
       "      <td>b'$1.16'</td>\n",
       "      <td>b'$2.23'</td>\n",
       "      <td>b'$1.70'</td>\n",
       "      <td>b'$1.99'</td>\n",
       "      <td>b'$2.54'</td>\n",
       "      <td>b'82.33%'</td>\n",
       "    </tr>\n",
       "    <tr>\n",
       "      <th>1</th>\n",
       "      <td>b'Romaine Lettuce'</td>\n",
       "      <td>2019-05-19</td>\n",
       "      <td>b'$0.35'</td>\n",
       "      <td>b'$1.72'</td>\n",
       "      <td>b'$2.00'</td>\n",
       "      <td>b'$1.69'</td>\n",
       "      <td>b'$1.99'</td>\n",
       "      <td>b'428.57%'</td>\n",
       "    </tr>\n",
       "    <tr>\n",
       "      <th>2</th>\n",
       "      <td>b'Red Leaf Lettuce'</td>\n",
       "      <td>2019-05-19</td>\n",
       "      <td>b'$0.32'</td>\n",
       "      <td>b'$1.84'</td>\n",
       "      <td>b'$1.84'</td>\n",
       "      <td>b'$1.69'</td>\n",
       "      <td>b'$1.89'</td>\n",
       "      <td>b'467.19%'</td>\n",
       "    </tr>\n",
       "    <tr>\n",
       "      <th>3</th>\n",
       "      <td>b'Potatoes'</td>\n",
       "      <td>2019-05-19</td>\n",
       "      <td>b'$1.50'</td>\n",
       "      <td>b'$5.32'</td>\n",
       "      <td>b'$5.14'</td>\n",
       "      <td>b'$3.99'</td>\n",
       "      <td>b'$6.22'</td>\n",
       "      <td>b'244.50%'</td>\n",
       "    </tr>\n",
       "    <tr>\n",
       "      <th>4</th>\n",
       "      <td>b'Oranges'</td>\n",
       "      <td>2019-05-19</td>\n",
       "      <td>b'$0.41'</td>\n",
       "      <td>b'$1.42'</td>\n",
       "      <td>b'$1.45'</td>\n",
       "      <td>b'$1.34'</td>\n",
       "      <td>b'$2.05'</td>\n",
       "      <td>b'281.71%'</td>\n",
       "    </tr>\n",
       "  </tbody>\n",
       "</table>\n",
       "</div>"
      ],
      "text/plain": [
       "  ProductPriceIndex.csv/productname ProductPriceIndex.csv/date  \\\n",
       "0                   b'Strawberries'                 2019-05-19   \n",
       "1                b'Romaine Lettuce'                 2019-05-19   \n",
       "2               b'Red Leaf Lettuce'                 2019-05-19   \n",
       "3                       b'Potatoes'                 2019-05-19   \n",
       "4                        b'Oranges'                 2019-05-19   \n",
       "\n",
       "  ProductPriceIndex.csv/farmprice ProductPriceIndex.csv/atlantaretail  \\\n",
       "0                        b'$1.16'                            b'$2.23'   \n",
       "1                        b'$0.35'                            b'$1.72'   \n",
       "2                        b'$0.32'                            b'$1.84'   \n",
       "3                        b'$1.50'                            b'$5.32'   \n",
       "4                        b'$0.41'                            b'$1.42'   \n",
       "\n",
       "  ProductPriceIndex.csv/chicagoretail ProductPriceIndex.csv/losangelesretail  \\\n",
       "0                            b'$1.70'                               b'$1.99'   \n",
       "1                            b'$2.00'                               b'$1.69'   \n",
       "2                            b'$1.84'                               b'$1.69'   \n",
       "3                            b'$5.14'                               b'$3.99'   \n",
       "4                            b'$1.45'                               b'$1.34'   \n",
       "\n",
       "  ProductPriceIndex.csv/newyorkretail ProductPriceIndex.csv/averagespread  \n",
       "0                            b'$2.54'                           b'82.33%'  \n",
       "1                            b'$1.99'                          b'428.57%'  \n",
       "2                            b'$1.89'                          b'467.19%'  \n",
       "3                            b'$6.22'                          b'244.50%'  \n",
       "4                            b'$2.05'                          b'281.71%'  "
      ]
     },
     "execution_count": 11,
     "metadata": {},
     "output_type": "execute_result"
    }
   ],
   "source": [
    "import mlcroissant as mlc\n",
    "import pandas as pd\n",
    "\n",
    "# Fetch the Croissant JSON-LD\n",
    "croissant_dataset = mlc.Dataset('https://www.kaggle.com/datasets/everydaycodings/produce-prices-dataset/croissant/download')\n",
    "\n",
    "# Check what record sets are in the dataset\n",
    "record_sets = croissant_dataset.metadata.record_sets\n",
    "print(record_sets)\n",
    "\n",
    "# Fetch the records and put them in a DataFrame\n",
    "record_set_df = pd.DataFrame(croissant_dataset.records(record_set=record_sets[0].uuid))\n",
    "record_set_df.head()\n"
   ]
  },
  {
   "cell_type": "markdown",
   "metadata": {},
   "source": [
    "## Pré-processamento dos Dados\n",
    "- **Tratamento de Datas:** Conversão da coluna de datas para o formato `datetime` e, se necessário, definição da coluna de data como índice.\n",
    "- **Limpeza dos Dados:** Identificação e tratamento de valores ausentes ou inconsistentes.\n",
    "- **Normalização:** Escalonamento dos preços para facilitar o treinamento do modelo.\n",
    "- **Criação de Sequências Temporais:** Transformação dos dados em sequências (por exemplo, utilizando os últimos 30 dias de preços para prever o preço do dia seguinte), garantindo que a ordem temporal seja preservada."
   ]
  },
  {
   "cell_type": "markdown",
   "metadata": {},
   "source": [
    "## Definição da Arquitetura da RNN\n",
    "- **Modelo:** Criação de uma classe para a RNN, definindo:\n",
    "  - Uma camada recorrente (pode ser uma RNN simples, LSTM ou GRU).\n",
    "  - Uma camada de saída que gera a previsão do preço.\n",
    "- **Funcionamento:** Explicação de como a RNN utiliza o histórico de preços para aprender os padrões temporais e realizar as previsões."
   ]
  },
  {
   "cell_type": "markdown",
   "metadata": {},
   "source": [
    "## Configuração do Treinamento\n",
    "- **Preparação dos Dados:** Conversão das sequências e dos valores-alvo em tensores (caso use PyTorch, por exemplo) e criação de DataLoaders para facilitar o processamento em batches.\n",
    "- **Definição da Função de Perda e Otimizador:** Uso de uma métrica de erro (como o Mean Squared Error - MSE) e escolha de um otimizador (por exemplo, Adam).\n",
    "- **Configuração de Hiperparâmetros:** Definição do número de épocas, tamanho do batch, taxa de aprendizado, entre outros."
   ]
  },
  {
   "cell_type": "markdown",
   "metadata": {},
   "source": [
    "## Treinamento do Modelo\n",
    "- **Loop de Treinamento:** Processamento dos batches de dados, cálculo da perda, realização do backpropagation e atualização dos pesos.\n",
    "- **Monitoramento:** Registro e visualização da evolução da perda durante o treinamento para acompanhar o desempenho do modelo."
   ]
  },
  {
   "cell_type": "markdown",
   "metadata": {},
   "source": [
    "## Avaliação e Predição\n",
    "- **Avaliação:** Utilização de um conjunto de teste para avaliar a performance do modelo, comparando as previsões com os valores reais.\n",
    "- **Visualização dos Resultados:** Criação de gráficos que mostrem as previsões versus os valores reais para identificar se o modelo está capturando os padrões esperados."
   ]
  },
  {
   "cell_type": "markdown",
   "metadata": {},
   "source": [
    "## Conclusões e Próximos Passos\n",
    "- **Resumo dos Resultados:** Discussão sobre o desempenho do modelo e os principais aprendizados obtidos durante o projeto.\n",
    "- **Limitações e Melhorias:** Identificação das limitações atuais e sugestões de possíveis melhorias, como ajuste de hiperparâmetros ou experimentação com arquiteturas mais avançadas (por exemplo, LSTM ou GRU).\n",
    "- **Perspectivas Futuras:** Ideias para expandir o projeto, aplicando a metodologia a outros datasets ou integrando novas fontes de dados."
   ]
  }
 ],
 "metadata": {
  "kernelspec": {
   "display_name": "Python 3",
   "language": "python",
   "name": "python3"
  },
  "language_info": {
   "codemirror_mode": {
    "name": "ipython",
    "version": 3
   },
   "file_extension": ".py",
   "mimetype": "text/x-python",
   "name": "python",
   "nbconvert_exporter": "python",
   "pygments_lexer": "ipython3",
   "version": "3.13.1"
  }
 },
 "nbformat": 4,
 "nbformat_minor": 2
}
