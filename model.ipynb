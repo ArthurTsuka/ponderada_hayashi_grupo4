{
  "cells": [
    {
      "cell_type": "markdown",
      "metadata": {
        "id": "rGffohTRsxuo"
      },
      "source": [
        "# Previsão de Preços de Frutas e Vegetais com Redes Neurais Recorrentes (RNN)\n",
        "\n",
        "## Introdução\n",
        "Neste notebook, iremos utilizar uma Rede Neural Recorrente (RNN) para prever os preços de frutas e vegetais a partir de dados históricos contidos no dataset \"Fruits and Vegetables Prices Dataset\". O objetivo é demonstrar como podemos aplicar técnicas de deep learning em séries temporais para capturar padrões e tendências nos preços ao longo do tempo.\n",
        "\n",
        "## Objetivos\n",
        "- Implementar uma RNN do zero para realizar previsões de preços.\n",
        "- Explorar e analisar os dados históricos do dataset.\n",
        "- Avaliar o desempenho do modelo e discutir possíveis melhorias."
      ]
    },
    {
      "cell_type": "markdown",
      "metadata": {
        "id": "j4x60PU-sxur"
      },
      "source": [
        "## Bibliotecas e Configurações Iniciais\n",
        "Nesta seção, serão importadas as bibliotecas necessárias (como `pandas`, `numpy`, e um framework de deep learning, por exemplo, PyTorch ou TensorFlow) e realizadas as configurações iniciais, como definição de semente para reprodutibilidade e configuração do ambiente de trabalho.\n"
      ]
    },
    {
      "cell_type": "markdown",
      "metadata": {
        "id": "DhnxoUAAsxur"
      },
      "source": [
        "## Carregamento e Exploração do Dataset\n",
        "- **Carregamento dos Dados:** Leitura do dataset (por exemplo, de um arquivo CSV) contendo os preços históricos de frutas e vegetais.\n",
        "- **Exploração Inicial:** Exibição das primeiras linhas, análise de informações gerais (dimensões, tipos de dados, valores ausentes) e visualização de gráficos para entender a evolução dos preços ao longo do tempo."
      ]
    },
    {
      "cell_type": "code",
      "execution_count": 1,
      "metadata": {
        "colab": {
          "base_uri": "https://localhost:8080/"
        },
        "id": "N7yn6gA1sytk",
        "outputId": "6abbb2c3-f774-46e1-f86b-c05132f865f2"
      },
      "outputs": [
        {
          "name": "stdout",
          "output_type": "stream",
          "text": [
            "Requirement already satisfied: mlcroissant in /Users/tuti/Documents/solana_api/venv/lib/python3.10/site-packages (1.0.14)\n",
            "Requirement already satisfied: absl-py in /Users/tuti/Documents/solana_api/venv/lib/python3.10/site-packages (from mlcroissant) (2.1.0)\n",
            "Requirement already satisfied: etils>=1.7.0 in /Users/tuti/Documents/solana_api/venv/lib/python3.10/site-packages (from etils[epath]>=1.7.0->mlcroissant) (1.12.0)\n",
            "Requirement already satisfied: jsonpath-rw in /Users/tuti/Documents/solana_api/venv/lib/python3.10/site-packages (from mlcroissant) (1.4.0)\n",
            "Requirement already satisfied: networkx in /Users/tuti/Documents/solana_api/venv/lib/python3.10/site-packages (from mlcroissant) (3.4.2)\n",
            "Requirement already satisfied: pandas in /Users/tuti/Documents/solana_api/venv/lib/python3.10/site-packages (from mlcroissant) (2.2.3)\n",
            "Requirement already satisfied: pandas-stubs in /Users/tuti/Documents/solana_api/venv/lib/python3.10/site-packages (from mlcroissant) (2.2.3.250308)\n",
            "Requirement already satisfied: python-dateutil in /Users/tuti/Documents/solana_api/venv/lib/python3.10/site-packages (from mlcroissant) (2.9.0.post0)\n",
            "Requirement already satisfied: rdflib in /Users/tuti/Documents/solana_api/venv/lib/python3.10/site-packages (from mlcroissant) (7.1.3)\n",
            "Requirement already satisfied: requests in /Users/tuti/Documents/solana_api/venv/lib/python3.10/site-packages (from mlcroissant) (2.32.3)\n",
            "Requirement already satisfied: tqdm in /Users/tuti/Documents/solana_api/venv/lib/python3.10/site-packages (from mlcroissant) (4.67.1)\n",
            "Requirement already satisfied: fsspec in /Users/tuti/Documents/solana_api/venv/lib/python3.10/site-packages (from etils[epath]>=1.7.0->mlcroissant) (2024.12.0)\n",
            "Requirement already satisfied: importlib_resources in /Users/tuti/Documents/solana_api/venv/lib/python3.10/site-packages (from etils[epath]>=1.7.0->mlcroissant) (6.5.2)\n",
            "Requirement already satisfied: typing_extensions in /Users/tuti/Documents/solana_api/venv/lib/python3.10/site-packages (from etils[epath]>=1.7.0->mlcroissant) (4.12.2)\n",
            "Requirement already satisfied: zipp in /Users/tuti/Documents/solana_api/venv/lib/python3.10/site-packages (from etils[epath]>=1.7.0->mlcroissant) (3.21.0)\n",
            "Requirement already satisfied: ply in /Users/tuti/Documents/solana_api/venv/lib/python3.10/site-packages (from jsonpath-rw->mlcroissant) (3.11)\n",
            "Requirement already satisfied: decorator in /Users/tuti/Documents/solana_api/venv/lib/python3.10/site-packages (from jsonpath-rw->mlcroissant) (5.1.1)\n",
            "Requirement already satisfied: six in /Users/tuti/Documents/solana_api/venv/lib/python3.10/site-packages (from jsonpath-rw->mlcroissant) (1.17.0)\n",
            "Requirement already satisfied: numpy>=1.22.4 in /Users/tuti/Documents/solana_api/venv/lib/python3.10/site-packages (from pandas->mlcroissant) (1.26.4)\n",
            "Requirement already satisfied: pytz>=2020.1 in /Users/tuti/Documents/solana_api/venv/lib/python3.10/site-packages (from pandas->mlcroissant) (2024.2)\n",
            "Requirement already satisfied: tzdata>=2022.7 in /Users/tuti/Documents/solana_api/venv/lib/python3.10/site-packages (from pandas->mlcroissant) (2025.1)\n",
            "Requirement already satisfied: types-pytz>=2022.1.1 in /Users/tuti/Documents/solana_api/venv/lib/python3.10/site-packages (from pandas-stubs->mlcroissant) (2025.1.0.20250318)\n",
            "Requirement already satisfied: isodate<1.0.0,>=0.7.2 in /Users/tuti/Documents/solana_api/venv/lib/python3.10/site-packages (from rdflib->mlcroissant) (0.7.2)\n",
            "Requirement already satisfied: pyparsing<4,>=2.1.0 in /Users/tuti/Documents/solana_api/venv/lib/python3.10/site-packages (from rdflib->mlcroissant) (3.2.1)\n",
            "Requirement already satisfied: charset-normalizer<4,>=2 in /Users/tuti/Documents/solana_api/venv/lib/python3.10/site-packages (from requests->mlcroissant) (3.4.1)\n",
            "Requirement already satisfied: idna<4,>=2.5 in /Users/tuti/Documents/solana_api/venv/lib/python3.10/site-packages (from requests->mlcroissant) (3.10)\n",
            "Requirement already satisfied: urllib3<3,>=1.21.1 in /Users/tuti/Documents/solana_api/venv/lib/python3.10/site-packages (from requests->mlcroissant) (2.3.0)\n",
            "Requirement already satisfied: certifi>=2017.4.17 in /Users/tuti/Documents/solana_api/venv/lib/python3.10/site-packages (from requests->mlcroissant) (2024.12.14)\n",
            "\n",
            "\u001b[1m[\u001b[0m\u001b[34;49mnotice\u001b[0m\u001b[1;39;49m]\u001b[0m\u001b[39;49m A new release of pip is available: \u001b[0m\u001b[31;49m24.2\u001b[0m\u001b[39;49m -> \u001b[0m\u001b[32;49m25.0.1\u001b[0m\n",
            "\u001b[1m[\u001b[0m\u001b[34;49mnotice\u001b[0m\u001b[1;39;49m]\u001b[0m\u001b[39;49m To update, run: \u001b[0m\u001b[32;49mpip install --upgrade pip\u001b[0m\n"
          ]
        }
      ],
      "source": [
        "!pip install mlcroissant"
      ]
    },
    {
      "cell_type": "code",
      "execution_count": 22,
      "metadata": {
        "colab": {
          "base_uri": "https://localhost:8080/",
          "height": 313
        },
        "id": "DruhbVMusxus",
        "outputId": "a0cc5a39-b2a6-44e5-9577-9e43ec746899"
      },
      "outputs": [
        {
          "name": "stderr",
          "output_type": "stream",
          "text": [
            "WARNING:absl:WARNING: The JSON-LD `@context` is not standard. Refer to the official @context (e.g., from the example datasets in https://github.com/mlcommons/croissant/tree/main/datasets/1.0). The different keys are: {'examples', 'rai'}\n",
            "WARNING:absl:Found the following 1 warning(s) during the validation:\n",
            "  -  [Metadata(Fruits and Vegetables Prices Dataset)] Property \"http://mlcommons.org/croissant/citeAs\" is recommended, but does not exist.\n"
          ]
        },
        {
          "name": "stdout",
          "output_type": "stream",
          "text": [
            "[RecordSet(uuid=\"ProductPriceIndex.csv\")]\n"
          ]
        },
        {
          "data": {
            "text/html": [
              "<div>\n",
              "<style scoped>\n",
              "    .dataframe tbody tr th:only-of-type {\n",
              "        vertical-align: middle;\n",
              "    }\n",
              "\n",
              "    .dataframe tbody tr th {\n",
              "        vertical-align: top;\n",
              "    }\n",
              "\n",
              "    .dataframe thead th {\n",
              "        text-align: right;\n",
              "    }\n",
              "</style>\n",
              "<table border=\"1\" class=\"dataframe\">\n",
              "  <thead>\n",
              "    <tr style=\"text-align: right;\">\n",
              "      <th></th>\n",
              "      <th>ProductPriceIndex.csv/productname</th>\n",
              "      <th>ProductPriceIndex.csv/date</th>\n",
              "      <th>ProductPriceIndex.csv/farmprice</th>\n",
              "      <th>ProductPriceIndex.csv/atlantaretail</th>\n",
              "      <th>ProductPriceIndex.csv/chicagoretail</th>\n",
              "      <th>ProductPriceIndex.csv/losangelesretail</th>\n",
              "      <th>ProductPriceIndex.csv/newyorkretail</th>\n",
              "      <th>ProductPriceIndex.csv/averagespread</th>\n",
              "    </tr>\n",
              "  </thead>\n",
              "  <tbody>\n",
              "    <tr>\n",
              "      <th>0</th>\n",
              "      <td>b'Strawberries'</td>\n",
              "      <td>2019-05-19</td>\n",
              "      <td>b'$1.16'</td>\n",
              "      <td>b'$2.23'</td>\n",
              "      <td>b'$1.70'</td>\n",
              "      <td>b'$1.99'</td>\n",
              "      <td>b'$2.54'</td>\n",
              "      <td>b'82.33%'</td>\n",
              "    </tr>\n",
              "    <tr>\n",
              "      <th>1</th>\n",
              "      <td>b'Romaine Lettuce'</td>\n",
              "      <td>2019-05-19</td>\n",
              "      <td>b'$0.35'</td>\n",
              "      <td>b'$1.72'</td>\n",
              "      <td>b'$2.00'</td>\n",
              "      <td>b'$1.69'</td>\n",
              "      <td>b'$1.99'</td>\n",
              "      <td>b'428.57%'</td>\n",
              "    </tr>\n",
              "    <tr>\n",
              "      <th>2</th>\n",
              "      <td>b'Red Leaf Lettuce'</td>\n",
              "      <td>2019-05-19</td>\n",
              "      <td>b'$0.32'</td>\n",
              "      <td>b'$1.84'</td>\n",
              "      <td>b'$1.84'</td>\n",
              "      <td>b'$1.69'</td>\n",
              "      <td>b'$1.89'</td>\n",
              "      <td>b'467.19%'</td>\n",
              "    </tr>\n",
              "    <tr>\n",
              "      <th>3</th>\n",
              "      <td>b'Potatoes'</td>\n",
              "      <td>2019-05-19</td>\n",
              "      <td>b'$1.50'</td>\n",
              "      <td>b'$5.32'</td>\n",
              "      <td>b'$5.14'</td>\n",
              "      <td>b'$3.99'</td>\n",
              "      <td>b'$6.22'</td>\n",
              "      <td>b'244.50%'</td>\n",
              "    </tr>\n",
              "    <tr>\n",
              "      <th>4</th>\n",
              "      <td>b'Oranges'</td>\n",
              "      <td>2019-05-19</td>\n",
              "      <td>b'$0.41'</td>\n",
              "      <td>b'$1.42'</td>\n",
              "      <td>b'$1.45'</td>\n",
              "      <td>b'$1.34'</td>\n",
              "      <td>b'$2.05'</td>\n",
              "      <td>b'281.71%'</td>\n",
              "    </tr>\n",
              "  </tbody>\n",
              "</table>\n",
              "</div>"
            ],
            "text/plain": [
              "  ProductPriceIndex.csv/productname ProductPriceIndex.csv/date  \\\n",
              "0                   b'Strawberries'                 2019-05-19   \n",
              "1                b'Romaine Lettuce'                 2019-05-19   \n",
              "2               b'Red Leaf Lettuce'                 2019-05-19   \n",
              "3                       b'Potatoes'                 2019-05-19   \n",
              "4                        b'Oranges'                 2019-05-19   \n",
              "\n",
              "  ProductPriceIndex.csv/farmprice ProductPriceIndex.csv/atlantaretail  \\\n",
              "0                        b'$1.16'                            b'$2.23'   \n",
              "1                        b'$0.35'                            b'$1.72'   \n",
              "2                        b'$0.32'                            b'$1.84'   \n",
              "3                        b'$1.50'                            b'$5.32'   \n",
              "4                        b'$0.41'                            b'$1.42'   \n",
              "\n",
              "  ProductPriceIndex.csv/chicagoretail ProductPriceIndex.csv/losangelesretail  \\\n",
              "0                            b'$1.70'                               b'$1.99'   \n",
              "1                            b'$2.00'                               b'$1.69'   \n",
              "2                            b'$1.84'                               b'$1.69'   \n",
              "3                            b'$5.14'                               b'$3.99'   \n",
              "4                            b'$1.45'                               b'$1.34'   \n",
              "\n",
              "  ProductPriceIndex.csv/newyorkretail ProductPriceIndex.csv/averagespread  \n",
              "0                            b'$2.54'                           b'82.33%'  \n",
              "1                            b'$1.99'                          b'428.57%'  \n",
              "2                            b'$1.89'                          b'467.19%'  \n",
              "3                            b'$6.22'                          b'244.50%'  \n",
              "4                            b'$2.05'                          b'281.71%'  "
            ]
          },
          "execution_count": 22,
          "metadata": {},
          "output_type": "execute_result"
        }
      ],
      "source": [
        "import mlcroissant as mlc\n",
        "import pandas as pd\n",
        "import matplotlib.pyplot as plt\n",
        "\n",
        "# Fetch the Croissant JSON-LD\n",
        "croissant_dataset = mlc.Dataset('https://www.kaggle.com/datasets/everydaycodings/produce-prices-dataset/croissant/download')\n",
        "\n",
        "# Check what record sets are in the dataset\n",
        "record_sets = croissant_dataset.metadata.record_sets\n",
        "print(record_sets)\n",
        "\n",
        "# Fetch the records and put them in a DataFrame\n",
        "record_set_df = pd.DataFrame(croissant_dataset.records(record_set=record_sets[0].uuid))\n",
        "record_set_df.head()\n"
      ]
    },
    {
      "cell_type": "markdown",
      "metadata": {
        "id": "XPz6s60tsxut"
      },
      "source": [
        "## Pré-processamento dos Dados\n",
        "- **Tratamento de Datas:** Conversão da coluna de datas para o formato `datetime` e, se necessário, definição da coluna de data como índice.\n",
        "- **Limpeza dos Dados:** Identificação e tratamento de valores ausentes ou inconsistentes.\n",
        "- **Normalização:** Escalonamento dos preços para facilitar o treinamento do modelo.\n",
        "- **Criação de Sequências Temporais:** Transformação dos dados em sequências (por exemplo, utilizando os últimos 30 dias de preços para prever o preço do dia seguinte), garantindo que a ordem temporal seja preservada."
      ]
    },
    {
      "cell_type": "code",
      "execution_count": 3,
      "metadata": {
        "colab": {
          "base_uri": "https://localhost:8080/"
        },
        "id": "TAAve0fUsxut",
        "outputId": "a6b4a3d5-837c-4920-830d-87c70884c914"
      },
      "outputs": [
        {
          "name": "stdout",
          "output_type": "stream",
          "text": [
            "Requirement already satisfied: matplotlib in /Users/tuti/Documents/solana_api/venv/lib/python3.10/site-packages (3.10.0)\n",
            "Requirement already satisfied: contourpy>=1.0.1 in /Users/tuti/Documents/solana_api/venv/lib/python3.10/site-packages (from matplotlib) (1.3.1)\n",
            "Requirement already satisfied: cycler>=0.10 in /Users/tuti/Documents/solana_api/venv/lib/python3.10/site-packages (from matplotlib) (0.12.1)\n",
            "Requirement already satisfied: fonttools>=4.22.0 in /Users/tuti/Documents/solana_api/venv/lib/python3.10/site-packages (from matplotlib) (4.56.0)\n",
            "Requirement already satisfied: kiwisolver>=1.3.1 in /Users/tuti/Documents/solana_api/venv/lib/python3.10/site-packages (from matplotlib) (1.4.8)\n",
            "Requirement already satisfied: numpy>=1.23 in /Users/tuti/Documents/solana_api/venv/lib/python3.10/site-packages (from matplotlib) (1.26.4)\n",
            "Requirement already satisfied: packaging>=20.0 in /Users/tuti/Documents/solana_api/venv/lib/python3.10/site-packages (from matplotlib) (24.2)\n",
            "Requirement already satisfied: pillow>=8 in /Users/tuti/Documents/solana_api/venv/lib/python3.10/site-packages (from matplotlib) (11.1.0)\n",
            "Requirement already satisfied: pyparsing>=2.3.1 in /Users/tuti/Documents/solana_api/venv/lib/python3.10/site-packages (from matplotlib) (3.2.1)\n",
            "Requirement already satisfied: python-dateutil>=2.7 in /Users/tuti/Documents/solana_api/venv/lib/python3.10/site-packages (from matplotlib) (2.9.0.post0)\n",
            "Requirement already satisfied: six>=1.5 in /Users/tuti/Documents/solana_api/venv/lib/python3.10/site-packages (from python-dateutil>=2.7->matplotlib) (1.17.0)\n",
            "\n",
            "\u001b[1m[\u001b[0m\u001b[34;49mnotice\u001b[0m\u001b[1;39;49m]\u001b[0m\u001b[39;49m A new release of pip is available: \u001b[0m\u001b[31;49m24.2\u001b[0m\u001b[39;49m -> \u001b[0m\u001b[32;49m25.0.1\u001b[0m\n",
            "\u001b[1m[\u001b[0m\u001b[34;49mnotice\u001b[0m\u001b[1;39;49m]\u001b[0m\u001b[39;49m To update, run: \u001b[0m\u001b[32;49mpip install --upgrade pip\u001b[0m\n"
          ]
        }
      ],
      "source": [
        "!pip install matplotlib"
      ]
    },
    {
      "cell_type": "code",
      "execution_count": 8,
      "metadata": {},
      "outputs": [
        {
          "name": "stdout",
          "output_type": "stream",
          "text": [
            "Requirement already satisfied: scikit-learn in /Users/tuti/Documents/solana_api/venv/lib/python3.10/site-packages (1.6.1)\n",
            "Requirement already satisfied: numpy>=1.19.5 in /Users/tuti/Documents/solana_api/venv/lib/python3.10/site-packages (from scikit-learn) (1.26.4)\n",
            "Requirement already satisfied: scipy>=1.6.0 in /Users/tuti/Documents/solana_api/venv/lib/python3.10/site-packages (from scikit-learn) (1.15.2)\n",
            "Requirement already satisfied: joblib>=1.2.0 in /Users/tuti/Documents/solana_api/venv/lib/python3.10/site-packages (from scikit-learn) (1.4.2)\n",
            "Requirement already satisfied: threadpoolctl>=3.1.0 in /Users/tuti/Documents/solana_api/venv/lib/python3.10/site-packages (from scikit-learn) (3.6.0)\n",
            "\n",
            "\u001b[1m[\u001b[0m\u001b[34;49mnotice\u001b[0m\u001b[1;39;49m]\u001b[0m\u001b[39;49m A new release of pip is available: \u001b[0m\u001b[31;49m24.2\u001b[0m\u001b[39;49m -> \u001b[0m\u001b[32;49m25.0.1\u001b[0m\n",
            "\u001b[1m[\u001b[0m\u001b[34;49mnotice\u001b[0m\u001b[1;39;49m]\u001b[0m\u001b[39;49m To update, run: \u001b[0m\u001b[32;49mpip install --upgrade pip\u001b[0m\n"
          ]
        }
      ],
      "source": [
        "!pip install scikit-learn"
      ]
    },
    {
      "cell_type": "code",
      "execution_count": 23,
      "metadata": {
        "id": "e501JHM_sxut"
      },
      "outputs": [],
      "source": [
        "import pandas as pd\n",
        "import numpy as np\n",
        "from sklearn.preprocessing import MinMaxScaler\n",
        "\n",
        "\n",
        "df = record_set_df.copy()\n",
        "\n",
        "columns_mapping = {\n",
        "    'ProductPriceIndex.csv/productname': 'productname',\n",
        "    'ProductPriceIndex.csv/date': 'date',\n",
        "    'ProductPriceIndex.csv/farmprice': 'farmprice',\n",
        "    'ProductPriceIndex.csv/atlantaretail': 'atlantaretail',\n",
        "    'ProductPriceIndex.csv/chicagoretail': 'chicagoretail',\n",
        "    'ProductPriceIndex.csv/losangelesretail': 'losangelesretail',\n",
        "    'ProductPriceIndex.csv/newyorkretail': 'newyorkretail',\n",
        "    'ProductPriceIndex.csv/averagespread': 'averagespread'\n",
        "}\n",
        "df = df.rename(columns=columns_mapping)\n",
        "\n",
        "for col in df.columns:\n",
        "    if df[col].dtype == object:\n",
        "        if len(df) > 0 and isinstance(df[col].iloc[0], bytes):\n",
        "            df[col] = df[col].apply(lambda x: x.decode('utf-8') if isinstance(x, bytes) else x)\n",
        "\n",
        "df['date'] = pd.to_datetime(df['date'])\n",
        "df = df.loc[:, ~df.columns.duplicated()]"
      ]
    },
    {
      "cell_type": "code",
      "execution_count": 24,
      "metadata": {
        "colab": {
          "base_uri": "https://localhost:8080/"
        },
        "id": "0gT79r8xvP_d",
        "outputId": "5d871161-23a7-489f-96b9-5440eaf13174"
      },
      "outputs": [
        {
          "name": "stdout",
          "output_type": "stream",
          "text": [
            "Valores ausentes nas colunas de preço:\n",
            " farmprice           1\n",
            "atlantaretail       1\n",
            "chicagoretail       0\n",
            "losangelesretail    0\n",
            "newyorkretail       8\n",
            "dtype: int64\n"
          ]
        }
      ],
      "source": [
        "# 2. LIMPEZA DOS DADOS\n",
        "# Remover linhas sem nome de produto\n",
        "df = df.dropna(subset=['productname'])\n",
        "\n",
        "# Converter colunas de preço para númerico (remover $ e converter para float)\n",
        "price_columns = ['farmprice', 'atlantaretail', 'chicagoretail',\n",
        "                'losangelesretail', 'newyorkretail']\n",
        "\n",
        "for col in price_columns:\n",
        "    # Tratar strings vazias e converter para float com tratamento de erros\n",
        "    df[col] = df[col].replace('', np.nan)  # Substituir strings vazias por NaN\n",
        "    df[col] = df[col].str.replace('$', '', regex=False)  # Remover $\n",
        "    df[col] = pd.to_numeric(df[col], errors='coerce')  # Converter para float, forçando erros para NaN\n",
        "\n",
        "# Verificar valores ausentes nas colunas de preço\n",
        "missing_values = df[price_columns].isna().sum()\n",
        "print(\"Valores ausentes nas colunas de preço:\\n\", missing_values)\n",
        "\n",
        "# Preencher valores ausentes com a média da coluna\n",
        "for col in price_columns:\n",
        "    df[col] = df[col].fillna(df[col].mean())\n",
        "\n",
        "# Recalcular a coluna averagespread\n",
        "df['averagespread'] = ((df[price_columns[1:]].mean(axis=1) / df['farmprice'] - 1) * 100)\n",
        "\n"
      ]
    },
    {
      "cell_type": "code",
      "execution_count": 25,
      "metadata": {
        "id": "_bxn_UdIvYEl"
      },
      "outputs": [],
      "source": [
        "# 3. NORMALIZAÇÃO\n",
        "# Criar versão normalizada dos dados para os preços\n",
        "scaler = MinMaxScaler()\n",
        "df_normalized = df.copy()\n",
        "df_normalized[price_columns] = scaler.fit_transform(df[price_columns])"
      ]
    },
    {
      "cell_type": "code",
      "execution_count": 26,
      "metadata": {
        "colab": {
          "base_uri": "https://localhost:8080/"
        },
        "id": "8NNd1usjvLdg",
        "outputId": "f914c4c5-4523-4a5d-8214-9e127faf2c35"
      },
      "outputs": [
        {
          "name": "stdout",
          "output_type": "stream",
          "text": [
            "Produto: Strawberries, Formato das sequências: X (943, 30), y (943,)\n",
            "Produto: Romaine Lettuce, Formato das sequências: X (983, 30), y (983,)\n",
            "Produto: Red Leaf Lettuce, Formato das sequências: X (984, 30), y (984,)\n"
          ]
        }
      ],
      "source": [
        "# 4. CRIAÇÃO DE SEQUÊNCIAS TEMPORAIS\n",
        "# Ordenar por produto e data\n",
        "df_sorted = df.sort_values(['productname', 'date'])\n",
        "\n",
        "df_time = df.copy()\n",
        "df_time.set_index('date', inplace=True)\n",
        "\n",
        "def create_sequences(data, target_col, sequence_length=30):\n",
        "    X, y = [], []\n",
        "    values = data[target_col].values\n",
        "\n",
        "    for i in range(len(values) - sequence_length):\n",
        "        X.append(values[i:i+sequence_length])\n",
        "        y.append(values[i+sequence_length])\n",
        "\n",
        "    return np.array(X), np.array(y)\n",
        "\n",
        "# Criar DataFrames individuais por produto\n",
        "products = df['productname'].unique()\n",
        "product_dfs = {}\n",
        "\n",
        "for product in products:\n",
        "    product_df = df[df['productname'] == product].sort_values('date')\n",
        "    if len(product_df) > 30:  # Garantir que há dados suficientes para sequências\n",
        "        product_dfs[product] = product_df\n",
        "\n",
        "# Exemplos de criação de sequências para alguns produtos\n",
        "sequence_data = {}\n",
        "for product, product_df in list(product_dfs.items())[:3]:  # Processar apenas os 3 primeiros produtos\n",
        "    if len(product_df) > 30:\n",
        "        X, y = create_sequences(product_df, 'farmprice', sequence_length=30)\n",
        "        sequence_data[product] = (X, y)\n",
        "        print(f\"Produto: {product}, Formato das sequências: X {X.shape}, y {y.shape}\")\n",
        "\n",
        "df.to_csv('produce_prices_preprocessed.csv', index=False)\n",
        "df_normalized.to_csv('produce_prices_normalized.csv', index=False)\n",
        "df_time.to_csv('produce_prices_time_indexed.csv')\n"
      ]
    },
    {
      "cell_type": "markdown",
      "metadata": {
        "id": "L2QaOHF3sxuu"
      },
      "source": [
        "## Definição da Arquitetura da RNN\n",
        "- **Modelo:** Criação de uma classe para a RNN, definindo:\n",
        "  - Uma camada recorrente (pode ser uma RNN simples, LSTM ou GRU).\n",
        "  - Uma camada de saída que gera a previsão do preço.\n",
        "- **Funcionamento:** Explicação de como a RNN utiliza o histórico de preços para aprender os padrões temporais e realizar as previsões."
      ]
    },
    {
      "cell_type": "code",
      "execution_count": 39,
      "metadata": {},
      "outputs": [
        {
          "name": "stderr",
          "output_type": "stream",
          "text": [
            "/Users/tuti/Documents/ponderada_hayashi_grupo4/venv/lib/python3.10/site-packages/keras/src/layers/layer.py:395: UserWarning: `build()` was called on layer 'rnn_price_predictor_11', however the layer does not have a `build()` method implemented and it looks like it has unbuilt state. This will cause the layer to be marked as built, despite not being actually built, which may cause failures down the line. Make sure to implement a proper `build()` method.\n",
            "  warnings.warn(\n"
          ]
        },
        {
          "data": {
            "text/html": [
              "<pre style=\"white-space:pre;overflow-x:auto;line-height:normal;font-family:Menlo,'DejaVu Sans Mono',consolas,'Courier New',monospace\"><span style=\"font-weight: bold\">Model: \"rnn_price_predictor_11\"</span>\n",
              "</pre>\n"
            ],
            "text/plain": [
              "\u001b[1mModel: \"rnn_price_predictor_11\"\u001b[0m\n"
            ]
          },
          "metadata": {},
          "output_type": "display_data"
        },
        {
          "data": {
            "text/html": [
              "<pre style=\"white-space:pre;overflow-x:auto;line-height:normal;font-family:Menlo,'DejaVu Sans Mono',consolas,'Courier New',monospace\">┏━━━━━━━━━━━━━━━━━━━━━━━━━━━━━━━━━┳━━━━━━━━━━━━━━━━━━━━━━━━┳━━━━━━━━━━━━━━━┓\n",
              "┃<span style=\"font-weight: bold\"> Layer (type)                    </span>┃<span style=\"font-weight: bold\"> Output Shape           </span>┃<span style=\"font-weight: bold\">       Param # </span>┃\n",
              "┡━━━━━━━━━━━━━━━━━━━━━━━━━━━━━━━━━╇━━━━━━━━━━━━━━━━━━━━━━━━╇━━━━━━━━━━━━━━━┩\n",
              "│ lstm_11 (<span style=\"color: #0087ff; text-decoration-color: #0087ff\">LSTM</span>)                  │ ?                      │   <span style=\"color: #00af00; text-decoration-color: #00af00\">0</span> (unbuilt) │\n",
              "├─────────────────────────────────┼────────────────────────┼───────────────┤\n",
              "│ dense_11 (<span style=\"color: #0087ff; text-decoration-color: #0087ff\">Dense</span>)                │ ?                      │   <span style=\"color: #00af00; text-decoration-color: #00af00\">0</span> (unbuilt) │\n",
              "└─────────────────────────────────┴────────────────────────┴───────────────┘\n",
              "</pre>\n"
            ],
            "text/plain": [
              "┏━━━━━━━━━━━━━━━━━━━━━━━━━━━━━━━━━┳━━━━━━━━━━━━━━━━━━━━━━━━┳━━━━━━━━━━━━━━━┓\n",
              "┃\u001b[1m \u001b[0m\u001b[1mLayer (type)                   \u001b[0m\u001b[1m \u001b[0m┃\u001b[1m \u001b[0m\u001b[1mOutput Shape          \u001b[0m\u001b[1m \u001b[0m┃\u001b[1m \u001b[0m\u001b[1m      Param #\u001b[0m\u001b[1m \u001b[0m┃\n",
              "┡━━━━━━━━━━━━━━━━━━━━━━━━━━━━━━━━━╇━━━━━━━━━━━━━━━━━━━━━━━━╇━━━━━━━━━━━━━━━┩\n",
              "│ lstm_11 (\u001b[38;5;33mLSTM\u001b[0m)                  │ ?                      │   \u001b[38;5;34m0\u001b[0m (unbuilt) │\n",
              "├─────────────────────────────────┼────────────────────────┼───────────────┤\n",
              "│ dense_11 (\u001b[38;5;33mDense\u001b[0m)                │ ?                      │   \u001b[38;5;34m0\u001b[0m (unbuilt) │\n",
              "└─────────────────────────────────┴────────────────────────┴───────────────┘\n"
            ]
          },
          "metadata": {},
          "output_type": "display_data"
        },
        {
          "data": {
            "text/html": [
              "<pre style=\"white-space:pre;overflow-x:auto;line-height:normal;font-family:Menlo,'DejaVu Sans Mono',consolas,'Courier New',monospace\"><span style=\"font-weight: bold\"> Total params: </span><span style=\"color: #00af00; text-decoration-color: #00af00\">0</span> (0.00 B)\n",
              "</pre>\n"
            ],
            "text/plain": [
              "\u001b[1m Total params: \u001b[0m\u001b[38;5;34m0\u001b[0m (0.00 B)\n"
            ]
          },
          "metadata": {},
          "output_type": "display_data"
        },
        {
          "data": {
            "text/html": [
              "<pre style=\"white-space:pre;overflow-x:auto;line-height:normal;font-family:Menlo,'DejaVu Sans Mono',consolas,'Courier New',monospace\"><span style=\"font-weight: bold\"> Trainable params: </span><span style=\"color: #00af00; text-decoration-color: #00af00\">0</span> (0.00 B)\n",
              "</pre>\n"
            ],
            "text/plain": [
              "\u001b[1m Trainable params: \u001b[0m\u001b[38;5;34m0\u001b[0m (0.00 B)\n"
            ]
          },
          "metadata": {},
          "output_type": "display_data"
        },
        {
          "data": {
            "text/html": [
              "<pre style=\"white-space:pre;overflow-x:auto;line-height:normal;font-family:Menlo,'DejaVu Sans Mono',consolas,'Courier New',monospace\"><span style=\"font-weight: bold\"> Non-trainable params: </span><span style=\"color: #00af00; text-decoration-color: #00af00\">0</span> (0.00 B)\n",
              "</pre>\n"
            ],
            "text/plain": [
              "\u001b[1m Non-trainable params: \u001b[0m\u001b[38;5;34m0\u001b[0m (0.00 B)\n"
            ]
          },
          "metadata": {},
          "output_type": "display_data"
        },
        {
          "name": "stdout",
          "output_type": "stream",
          "text": [
            "Epoch 1/50\n",
            "\u001b[1m24/24\u001b[0m \u001b[32m━━━━━━━━━━━━━━━━━━━━\u001b[0m\u001b[37m\u001b[0m \u001b[1m1s\u001b[0m 14ms/step - loss: 0.9949 - val_loss: 0.3569 - learning_rate: 0.0010\n",
            "Epoch 2/50\n",
            "\u001b[1m24/24\u001b[0m \u001b[32m━━━━━━━━━━━━━━━━━━━━\u001b[0m\u001b[37m\u001b[0m \u001b[1m0s\u001b[0m 11ms/step - loss: 0.3447 - val_loss: 0.3073 - learning_rate: 0.0010\n",
            "Epoch 3/50\n",
            "\u001b[1m24/24\u001b[0m \u001b[32m━━━━━━━━━━━━━━━━━━━━\u001b[0m\u001b[37m\u001b[0m \u001b[1m0s\u001b[0m 10ms/step - loss: 0.2755 - val_loss: 0.2578 - learning_rate: 0.0010\n",
            "Epoch 4/50\n",
            "\u001b[1m24/24\u001b[0m \u001b[32m━━━━━━━━━━━━━━━━━━━━\u001b[0m\u001b[37m\u001b[0m \u001b[1m0s\u001b[0m 10ms/step - loss: 0.1697 - val_loss: 0.2180 - learning_rate: 0.0010\n",
            "Epoch 5/50\n",
            "\u001b[1m24/24\u001b[0m \u001b[32m━━━━━━━━━━━━━━━━━━━━\u001b[0m\u001b[37m\u001b[0m \u001b[1m0s\u001b[0m 10ms/step - loss: 0.1413 - val_loss: 0.2041 - learning_rate: 0.0010\n",
            "Epoch 6/50\n",
            "\u001b[1m24/24\u001b[0m \u001b[32m━━━━━━━━━━━━━━━━━━━━\u001b[0m\u001b[37m\u001b[0m \u001b[1m0s\u001b[0m 10ms/step - loss: 0.1734 - val_loss: 0.1941 - learning_rate: 0.0010\n",
            "Epoch 7/50\n",
            "\u001b[1m24/24\u001b[0m \u001b[32m━━━━━━━━━━━━━━━━━━━━\u001b[0m\u001b[37m\u001b[0m \u001b[1m0s\u001b[0m 9ms/step - loss: 0.1251 - val_loss: 0.1864 - learning_rate: 0.0010\n",
            "Epoch 8/50\n",
            "\u001b[1m24/24\u001b[0m \u001b[32m━━━━━━━━━━━━━━━━━━━━\u001b[0m\u001b[37m\u001b[0m \u001b[1m0s\u001b[0m 10ms/step - loss: 0.1901 - val_loss: 0.1704 - learning_rate: 0.0010\n",
            "Epoch 9/50\n",
            "\u001b[1m24/24\u001b[0m \u001b[32m━━━━━━━━━━━━━━━━━━━━\u001b[0m\u001b[37m\u001b[0m \u001b[1m0s\u001b[0m 10ms/step - loss: 0.1470 - val_loss: 0.1682 - learning_rate: 0.0010\n",
            "Epoch 10/50\n",
            "\u001b[1m24/24\u001b[0m \u001b[32m━━━━━━━━━━━━━━━━━━━━\u001b[0m\u001b[37m\u001b[0m \u001b[1m0s\u001b[0m 10ms/step - loss: 0.1244 - val_loss: 0.1640 - learning_rate: 0.0010\n",
            "Epoch 11/50\n",
            "\u001b[1m24/24\u001b[0m \u001b[32m━━━━━━━━━━━━━━━━━━━━\u001b[0m\u001b[37m\u001b[0m \u001b[1m0s\u001b[0m 10ms/step - loss: 0.1427 - val_loss: 0.1667 - learning_rate: 0.0010\n",
            "Epoch 12/50\n",
            "\u001b[1m24/24\u001b[0m \u001b[32m━━━━━━━━━━━━━━━━━━━━\u001b[0m\u001b[37m\u001b[0m \u001b[1m0s\u001b[0m 10ms/step - loss: 0.1458 - val_loss: 0.1437 - learning_rate: 0.0010\n",
            "Epoch 13/50\n",
            "\u001b[1m24/24\u001b[0m \u001b[32m━━━━━━━━━━━━━━━━━━━━\u001b[0m\u001b[37m\u001b[0m \u001b[1m0s\u001b[0m 10ms/step - loss: 0.1385 - val_loss: 0.1468 - learning_rate: 0.0010\n",
            "Epoch 14/50\n",
            "\u001b[1m24/24\u001b[0m \u001b[32m━━━━━━━━━━━━━━━━━━━━\u001b[0m\u001b[37m\u001b[0m \u001b[1m0s\u001b[0m 9ms/step - loss: 0.1356 - val_loss: 0.1458 - learning_rate: 0.0010\n",
            "Epoch 15/50\n",
            "\u001b[1m24/24\u001b[0m \u001b[32m━━━━━━━━━━━━━━━━━━━━\u001b[0m\u001b[37m\u001b[0m \u001b[1m0s\u001b[0m 9ms/step - loss: 0.1298 - val_loss: 0.1299 - learning_rate: 0.0010\n",
            "Epoch 16/50\n",
            "\u001b[1m24/24\u001b[0m \u001b[32m━━━━━━━━━━━━━━━━━━━━\u001b[0m\u001b[37m\u001b[0m \u001b[1m0s\u001b[0m 10ms/step - loss: 0.1681 - val_loss: 0.1474 - learning_rate: 0.0010\n",
            "Epoch 17/50\n",
            "\u001b[1m24/24\u001b[0m \u001b[32m━━━━━━━━━━━━━━━━━━━━\u001b[0m\u001b[37m\u001b[0m \u001b[1m0s\u001b[0m 9ms/step - loss: 0.1180 - val_loss: 0.1582 - learning_rate: 0.0010\n",
            "Epoch 18/50\n",
            "\u001b[1m24/24\u001b[0m \u001b[32m━━━━━━━━━━━━━━━━━━━━\u001b[0m\u001b[37m\u001b[0m \u001b[1m0s\u001b[0m 10ms/step - loss: 0.1668 - val_loss: 0.1293 - learning_rate: 0.0010\n",
            "Epoch 19/50\n",
            "\u001b[1m24/24\u001b[0m \u001b[32m━━━━━━━━━━━━━━━━━━━━\u001b[0m\u001b[37m\u001b[0m \u001b[1m0s\u001b[0m 10ms/step - loss: 0.1662 - val_loss: 0.1233 - learning_rate: 0.0010\n",
            "Epoch 20/50\n",
            "\u001b[1m24/24\u001b[0m \u001b[32m━━━━━━━━━━━━━━━━━━━━\u001b[0m\u001b[37m\u001b[0m \u001b[1m0s\u001b[0m 9ms/step - loss: 0.1165 - val_loss: 0.1199 - learning_rate: 0.0010\n",
            "Epoch 21/50\n",
            "\u001b[1m24/24\u001b[0m \u001b[32m━━━━━━━━━━━━━━━━━━━━\u001b[0m\u001b[37m\u001b[0m \u001b[1m0s\u001b[0m 9ms/step - loss: 0.0957 - val_loss: 0.1251 - learning_rate: 0.0010\n",
            "Epoch 22/50\n",
            "\u001b[1m24/24\u001b[0m \u001b[32m━━━━━━━━━━━━━━━━━━━━\u001b[0m\u001b[37m\u001b[0m \u001b[1m0s\u001b[0m 9ms/step - loss: 0.0736 - val_loss: 0.1133 - learning_rate: 0.0010\n",
            "Epoch 23/50\n",
            "\u001b[1m24/24\u001b[0m \u001b[32m━━━━━━━━━━━━━━━━━━━━\u001b[0m\u001b[37m\u001b[0m \u001b[1m0s\u001b[0m 9ms/step - loss: 0.1302 - val_loss: 0.1433 - learning_rate: 0.0010\n",
            "Epoch 24/50\n",
            "\u001b[1m24/24\u001b[0m \u001b[32m━━━━━━━━━━━━━━━━━━━━\u001b[0m\u001b[37m\u001b[0m \u001b[1m0s\u001b[0m 12ms/step - loss: 0.1112 - val_loss: 0.1187 - learning_rate: 0.0010\n",
            "Epoch 25/50\n",
            "\u001b[1m24/24\u001b[0m \u001b[32m━━━━━━━━━━━━━━━━━━━━\u001b[0m\u001b[37m\u001b[0m \u001b[1m0s\u001b[0m 10ms/step - loss: 0.1038 - val_loss: 0.1160 - learning_rate: 0.0010\n",
            "Epoch 26/50\n",
            "\u001b[1m24/24\u001b[0m \u001b[32m━━━━━━━━━━━━━━━━━━━━\u001b[0m\u001b[37m\u001b[0m \u001b[1m0s\u001b[0m 10ms/step - loss: 0.1327 - val_loss: 0.1159 - learning_rate: 5.0000e-04\n",
            "Epoch 27/50\n",
            "\u001b[1m24/24\u001b[0m \u001b[32m━━━━━━━━━━━━━━━━━━━━\u001b[0m\u001b[37m\u001b[0m \u001b[1m0s\u001b[0m 10ms/step - loss: 0.1451 - val_loss: 0.1108 - learning_rate: 5.0000e-04\n",
            "Epoch 28/50\n",
            "\u001b[1m24/24\u001b[0m \u001b[32m━━━━━━━━━━━━━━━━━━━━\u001b[0m\u001b[37m\u001b[0m \u001b[1m0s\u001b[0m 9ms/step - loss: 0.1112 - val_loss: 0.1097 - learning_rate: 5.0000e-04\n",
            "Epoch 29/50\n",
            "\u001b[1m24/24\u001b[0m \u001b[32m━━━━━━━━━━━━━━━━━━━━\u001b[0m\u001b[37m\u001b[0m \u001b[1m0s\u001b[0m 9ms/step - loss: 0.1370 - val_loss: 0.1099 - learning_rate: 5.0000e-04\n",
            "Epoch 30/50\n",
            "\u001b[1m24/24\u001b[0m \u001b[32m━━━━━━━━━━━━━━━━━━━━\u001b[0m\u001b[37m\u001b[0m \u001b[1m0s\u001b[0m 10ms/step - loss: 0.0902 - val_loss: 0.1129 - learning_rate: 5.0000e-04\n",
            "Epoch 31/50\n",
            "\u001b[1m24/24\u001b[0m \u001b[32m━━━━━━━━━━━━━━━━━━━━\u001b[0m\u001b[37m\u001b[0m \u001b[1m0s\u001b[0m 9ms/step - loss: 0.0986 - val_loss: 0.1115 - learning_rate: 5.0000e-04\n",
            "Epoch 32/50\n",
            "\u001b[1m24/24\u001b[0m \u001b[32m━━━━━━━━━━━━━━━━━━━━\u001b[0m\u001b[37m\u001b[0m \u001b[1m0s\u001b[0m 9ms/step - loss: 0.1081 - val_loss: 0.1113 - learning_rate: 2.5000e-04\n",
            "Epoch 33/50\n",
            "\u001b[1m24/24\u001b[0m \u001b[32m━━━━━━━━━━━━━━━━━━━━\u001b[0m\u001b[37m\u001b[0m \u001b[1m0s\u001b[0m 9ms/step - loss: 0.0968 - val_loss: 0.1092 - learning_rate: 2.5000e-04\n",
            "Epoch 34/50\n",
            "\u001b[1m24/24\u001b[0m \u001b[32m━━━━━━━━━━━━━━━━━━━━\u001b[0m\u001b[37m\u001b[0m \u001b[1m0s\u001b[0m 9ms/step - loss: 0.0852 - val_loss: 0.1107 - learning_rate: 2.5000e-04\n",
            "Epoch 35/50\n",
            "\u001b[1m24/24\u001b[0m \u001b[32m━━━━━━━━━━━━━━━━━━━━\u001b[0m\u001b[37m\u001b[0m \u001b[1m0s\u001b[0m 9ms/step - loss: 0.0995 - val_loss: 0.1073 - learning_rate: 2.5000e-04\n",
            "Epoch 36/50\n",
            "\u001b[1m24/24\u001b[0m \u001b[32m━━━━━━━━━━━━━━━━━━━━\u001b[0m\u001b[37m\u001b[0m \u001b[1m0s\u001b[0m 10ms/step - loss: 0.1144 - val_loss: 0.1213 - learning_rate: 2.5000e-04\n",
            "Epoch 37/50\n",
            "\u001b[1m24/24\u001b[0m \u001b[32m━━━━━━━━━━━━━━━━━━━━\u001b[0m\u001b[37m\u001b[0m \u001b[1m0s\u001b[0m 9ms/step - loss: 0.1225 - val_loss: 0.1178 - learning_rate: 2.5000e-04\n",
            "Epoch 38/50\n",
            "\u001b[1m24/24\u001b[0m \u001b[32m━━━━━━━━━━━━━━━━━━━━\u001b[0m\u001b[37m\u001b[0m \u001b[1m0s\u001b[0m 9ms/step - loss: 0.0864 - val_loss: 0.1178 - learning_rate: 2.5000e-04\n",
            "Epoch 39/50\n",
            "\u001b[1m24/24\u001b[0m \u001b[32m━━━━━━━━━━━━━━━━━━━━\u001b[0m\u001b[37m\u001b[0m \u001b[1m0s\u001b[0m 9ms/step - loss: 0.0875 - val_loss: 0.1120 - learning_rate: 1.2500e-04\n",
            "Epoch 40/50\n",
            "\u001b[1m24/24\u001b[0m \u001b[32m━━━━━━━━━━━━━━━━━━━━\u001b[0m\u001b[37m\u001b[0m \u001b[1m0s\u001b[0m 9ms/step - loss: 0.1365 - val_loss: 0.1088 - learning_rate: 1.2500e-04\n"
          ]
        }
      ],
      "source": [
        "# 5. DEFINIÇÃO DA ARQUITETURA DA RNN\n",
        "import tensorflow as tf\n",
        "from tensorflow.keras.models import Model\n",
        "from tensorflow.keras.layers import LSTM, Dense\n",
        "from sklearn.model_selection import train_test_split\n",
        "\n",
        "EPOCHS = 50\n",
        "BATCH_SIZE = 32\n",
        "LEARNING_RATE = 0.001\n",
        "\n",
        "# Criamos uma classe para a RNN que utiliza uma camada LSTM e uma camada densa na saída\n",
        "class RNNPricePredictor(Model):\n",
        "    def __init__(self, units=128):\n",
        "        super(RNNPricePredictor, self).__init__()\n",
        "        # Camada recorrente LSTM para capturar os padrões temporais dos preços\n",
        "        self.lstm = LSTM(units, activation='tanh')\n",
        "        # Camada de saída que gera a previsão do preço (saída contínua)\n",
        "        self.dense = Dense(1, activation='linear')\n",
        "    \n",
        "    def call(self, inputs):\n",
        "        # A RNN recebe uma sequência histórica de preços, por exemplo,\n",
        "        # uma sequência de 30 valores (últimos 30 períodos)\n",
        "        x = self.lstm(inputs)\n",
        "        # A camada densa transforma os padrões extraídos em uma previsão de preço\n",
        "        output = self.dense(x)\n",
        "        return output\n",
        "    \n",
        "product = list(sequence_data.keys())[0]\n",
        "X, y = sequence_data[product]\n",
        "\n",
        "X_train, X_val, y_train, y_val = train_test_split(X, y, test_size=0.2, shuffle=False)\n",
        "\n",
        "X_train_tensor = tf.convert_to_tensor(X_train, dtype=tf.float32)\n",
        "y_train_tensor = tf.convert_to_tensor(y_train, dtype=tf.float32)\n",
        "X_val_tensor = tf.convert_to_tensor(X_val, dtype=tf.float32)\n",
        "y_val_tensor = tf.convert_to_tensor(y_val, dtype=tf.float32)\n",
        "\n",
        "X_train_tensor = tf.expand_dims(X_train_tensor, axis=-1) \n",
        "X_val_tensor = tf.expand_dims(X_val_tensor, axis=-1)\n",
        "\n",
        "# Instanciando e compilando o modelo\n",
        "model = RNNPricePredictor(units=128)\n",
        "optimizer = tf.keras.optimizers.Adam(learning_rate=LEARNING_RATE)\n",
        "model.compile(optimizer='adam', loss='mean_squared_error')\n",
        "\n",
        "early_stopping = tf.keras.callbacks.EarlyStopping(monitor='val_loss', patience=5)\n",
        "reduce_lr = tf.keras.callbacks.ReduceLROnPlateau(monitor='val_loss', factor=0.5, patience=3)\n",
        "\n",
        "# Para visualizar a arquitetura do modelo, definimos o formato da entrada:\n",
        "# Supondo que cada sequência tem 30 passos de tempo e 1 feature (ex.: 'farmprice')\n",
        "model.build(input_shape=(None, 30, 1))\n",
        "model.summary()\n",
        "\n",
        "# Explicação:\n",
        "# - O modelo RNNPricePredictor é composto por:\n",
        "#   - Uma camada LSTM que processa a sequência de preços históricos,\n",
        "#     aprendendo os padrões e relações temporais dos dados.\n",
        "#   - Uma camada densa que gera a previsão do próximo preço com base nos padrões\n",
        "#     aprendidos pela LSTM.\n",
        "#\n",
        "# - Durante o treinamento, o modelo receberá sequências (por exemplo, os preços dos últimos 30 períodos)\n",
        "#   e aprenderá a prever o preço do período seguinte. A LSTM é fundamental para capturar dependências\n",
        "#   temporais, enquanto a camada densa converte essas informações em uma saída numérica contínua.\n",
        "\n",
        "train_dataset = tf.data.Dataset.from_tensor_slices((X_train_tensor, y_train_tensor))\n",
        "train_dataset = train_dataset.batch(BATCH_SIZE).shuffle(len(X_train_tensor))\n",
        "\n",
        "val_dataset = tf.data.Dataset.from_tensor_slices((X_val_tensor, y_val_tensor))\n",
        "val_dataset = val_dataset.batch(BATCH_SIZE)\n",
        "\n",
        "history = model.fit(\n",
        "    train_dataset,\n",
        "    epochs=EPOCHS,\n",
        "    validation_data=val_dataset,\n",
        "    callbacks=[early_stopping, reduce_lr]\n",
        ")\n"
      ]
    },
    {
      "cell_type": "markdown",
      "metadata": {
        "id": "nNp7hsq9sxuu"
      },
      "source": [
        "## Configuração do Treinamento\n",
        "- **Preparação dos Dados:** Conversão das sequências e dos valores-alvo em tensores (caso use PyTorch, por exemplo) e criação de DataLoaders para facilitar o processamento em batches.\n",
        "- **Definição da Função de Perda e Otimizador:** Uso de uma métrica de erro (como o Mean Squared Error - MSE) e escolha de um otimizador (por exemplo, Adam).\n",
        "- **Configuração de Hiperparâmetros:** Definição do número de épocas, tamanho do batch, taxa de aprendizado, entre outros."
      ]
    },
    {
      "cell_type": "markdown",
      "metadata": {
        "id": "KWVLTlrLsxuu"
      },
      "source": [
        "## Treinamento do Modelo\n",
        "- **Loop de Treinamento:** Processamento dos batches de dados, cálculo da perda, realização do backpropagation e atualização dos pesos.\n",
        "- **Monitoramento:** Registro e visualização da evolução da perda durante o treinamento para acompanhar o desempenho do modelo."
      ]
    },
    {
      "cell_type": "code",
      "execution_count": 40,
      "metadata": {},
      "outputs": [
        {
          "data": {
            "image/png": "[encoded data removed]",
            "text/plain": [
              "<Figure size 640x480 with 1 Axes>"
            ]
          },
          "metadata": {},
          "output_type": "display_data"
        }
      ],
      "source": [
        "plt.plot(history.history['loss'], label='Training Loss')\n",
        "plt.plot(history.history['val_loss'], label='Validation Loss')\n",
        "plt.xlabel('Epoch')\n",
        "plt.ylabel('Loss')\n",
        "plt.legend()\n",
        "plt.show()"
      ]
    },
    {
      "cell_type": "markdown",
      "metadata": {
        "id": "h-8gJyBXsxuu"
      },
      "source": [
        "## Avaliação e Predição\n",
        "- **Avaliação:** Utilização de um conjunto de teste para avaliar a performance do modelo, comparando as previsões com os valores reais.\n",
        "- **Visualização dos Resultados:** Criação de gráficos que mostrem as previsões versus os valores reais para identificar se o modelo está capturando os padrões esperados."
      ]
    },
    {
      "cell_type": "markdown",
      "metadata": {
        "id": "z9-gNE_Isxuv"
      },
      "source": [
        "## Conclusões e Próximos Passos\n",
        "- **Resumo dos Resultados:** Discussão sobre o desempenho do modelo e os principais aprendizados obtidos durante o projeto.\n",
        "- **Limitações e Melhorias:** Identificação das limitações atuais e sugestões de possíveis melhorias, como ajuste de hiperparâmetros ou experimentação com arquiteturas mais avançadas (por exemplo, LSTM ou GRU).\n",
        "- **Perspectivas Futuras:** Ideias para expandir o projeto, aplicando a metodologia a outros datasets ou integrando novas fontes de dados."
      ]
    }
  ],
  "metadata": {
    "colab": {
      "provenance": []
    },
    "kernelspec": {
      "display_name": "venv",
      "language": "python",
      "name": "python3"
    },
    "language_info": {
      "codemirror_mode": {
        "name": "ipython",
        "version": 3
      },
      "file_extension": ".py",
      "mimetype": "text/x-python",
      "name": "python",
      "nbconvert_exporter": "python",
      "pygments_lexer": "ipython3",
      "version": "3.10.15"
    }
  },
  "nbformat": 4,
  "nbformat_minor": 0
}
