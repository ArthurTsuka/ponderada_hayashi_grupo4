{
  "cells": [
    {
      "cell_type": "markdown",
      "metadata": {
        "id": "rGffohTRsxuo"
      },
      "source": [
        "# Previsão de Preços de Frutas e Vegetais com Redes Neurais Recorrentes (RNN)\n",
        "\n",
        "## Introdução\n",
        "Neste notebook, iremos utilizar uma Rede Neural Recorrente (RNN) para prever os preços de frutas e vegetais a partir de dados históricos contidos no dataset \"Fruits and Vegetables Prices Dataset\". O objetivo é demonstrar como podemos aplicar técnicas de deep learning em séries temporais para capturar padrões e tendências nos preços ao longo do tempo.\n",
        "\n",
        "## Objetivos\n",
        "- Implementar uma RNN do zero para realizar previsões de preços.\n",
        "- Explorar e analisar os dados históricos do dataset.\n",
        "- Avaliar o desempenho do modelo e discutir possíveis melhorias."
      ]
    },
    {
      "cell_type": "markdown",
      "metadata": {
        "id": "j4x60PU-sxur"
      },
      "source": [
        "## Bibliotecas e Configurações Iniciais\n",
        "Nesta seção, serão importadas as bibliotecas necessárias (como `pandas`, `numpy`, e um framework de deep learning, por exemplo, PyTorch ou TensorFlow) e realizadas as configurações iniciais, como definição de semente para reprodutibilidade e configuração do ambiente de trabalho.\n"
      ]
    },
    {
      "cell_type": "markdown",
      "metadata": {
        "id": "DhnxoUAAsxur"
      },
      "source": [
        "## Carregamento e Exploração do Dataset\n",
        "- **Carregamento dos Dados:** Leitura do dataset (por exemplo, de um arquivo CSV) contendo os preços históricos de frutas e vegetais.\n",
        "- **Exploração Inicial:** Exibição das primeiras linhas, análise de informações gerais (dimensões, tipos de dados, valores ausentes) e visualização de gráficos para entender a evolução dos preços ao longo do tempo."
      ]
    },
    {
      "cell_type": "code",
      "source": [
        "!pip install mlcroissant"
      ],
      "metadata": {
        "colab": {
          "base_uri": "https://localhost:8080/"
        },
        "id": "N7yn6gA1sytk",
        "outputId": "6abbb2c3-f774-46e1-f86b-c05132f865f2"
      },
      "execution_count": 1,
      "outputs": [
        {
          "output_type": "stream",
          "name": "stdout",
          "text": [
            "Collecting mlcroissant\n",
            "  Downloading mlcroissant-1.0.14-py2.py3-none-any.whl.metadata (10 kB)\n",
            "Requirement already satisfied: absl-py in /usr/local/lib/python3.11/dist-packages (from mlcroissant) (1.4.0)\n",
            "Requirement already satisfied: etils>=1.7.0 in /usr/local/lib/python3.11/dist-packages (from etils[epath]>=1.7.0->mlcroissant) (1.12.2)\n",
            "Collecting jsonpath-rw (from mlcroissant)\n",
            "  Downloading jsonpath-rw-1.4.0.tar.gz (13 kB)\n",
            "  Preparing metadata (setup.py) ... \u001b[?25l\u001b[?25hdone\n",
            "Requirement already satisfied: networkx in /usr/local/lib/python3.11/dist-packages (from mlcroissant) (3.4.2)\n",
            "Requirement already satisfied: pandas in /usr/local/lib/python3.11/dist-packages (from mlcroissant) (2.2.2)\n",
            "Requirement already satisfied: pandas-stubs in /usr/local/lib/python3.11/dist-packages (from mlcroissant) (2.2.2.240909)\n",
            "Requirement already satisfied: python-dateutil in /usr/local/lib/python3.11/dist-packages (from mlcroissant) (2.8.2)\n",
            "Collecting rdflib (from mlcroissant)\n",
            "  Downloading rdflib-7.1.3-py3-none-any.whl.metadata (11 kB)\n",
            "Requirement already satisfied: requests in /usr/local/lib/python3.11/dist-packages (from mlcroissant) (2.32.3)\n",
            "Requirement already satisfied: tqdm in /usr/local/lib/python3.11/dist-packages (from mlcroissant) (4.67.1)\n",
            "Requirement already satisfied: fsspec in /usr/local/lib/python3.11/dist-packages (from etils[epath]>=1.7.0->mlcroissant) (2024.10.0)\n",
            "Requirement already satisfied: importlib_resources in /usr/local/lib/python3.11/dist-packages (from etils[epath]>=1.7.0->mlcroissant) (6.5.2)\n",
            "Requirement already satisfied: typing_extensions in /usr/local/lib/python3.11/dist-packages (from etils[epath]>=1.7.0->mlcroissant) (4.12.2)\n",
            "Requirement already satisfied: zipp in /usr/local/lib/python3.11/dist-packages (from etils[epath]>=1.7.0->mlcroissant) (3.21.0)\n",
            "Requirement already satisfied: ply in /usr/local/lib/python3.11/dist-packages (from jsonpath-rw->mlcroissant) (3.11)\n",
            "Requirement already satisfied: decorator in /usr/local/lib/python3.11/dist-packages (from jsonpath-rw->mlcroissant) (4.4.2)\n",
            "Requirement already satisfied: six in /usr/local/lib/python3.11/dist-packages (from jsonpath-rw->mlcroissant) (1.17.0)\n",
            "Requirement already satisfied: numpy>=1.23.2 in /usr/local/lib/python3.11/dist-packages (from pandas->mlcroissant) (2.0.2)\n",
            "Requirement already satisfied: pytz>=2020.1 in /usr/local/lib/python3.11/dist-packages (from pandas->mlcroissant) (2025.1)\n",
            "Requirement already satisfied: tzdata>=2022.7 in /usr/local/lib/python3.11/dist-packages (from pandas->mlcroissant) (2025.1)\n",
            "Requirement already satisfied: types-pytz>=2022.1.1 in /usr/local/lib/python3.11/dist-packages (from pandas-stubs->mlcroissant) (2025.1.0.20250204)\n",
            "Requirement already satisfied: pyparsing<4,>=2.1.0 in /usr/local/lib/python3.11/dist-packages (from rdflib->mlcroissant) (3.2.1)\n",
            "Requirement already satisfied: charset-normalizer<4,>=2 in /usr/local/lib/python3.11/dist-packages (from requests->mlcroissant) (3.4.1)\n",
            "Requirement already satisfied: idna<4,>=2.5 in /usr/local/lib/python3.11/dist-packages (from requests->mlcroissant) (3.10)\n",
            "Requirement already satisfied: urllib3<3,>=1.21.1 in /usr/local/lib/python3.11/dist-packages (from requests->mlcroissant) (2.3.0)\n",
            "Requirement already satisfied: certifi>=2017.4.17 in /usr/local/lib/python3.11/dist-packages (from requests->mlcroissant) (2025.1.31)\n",
            "Downloading mlcroissant-1.0.14-py2.py3-none-any.whl (139 kB)\n",
            "\u001b[2K   \u001b[90m━━━━━━━━━━━━━━━━━━━━━━━━━━━━━━━━━━━━━━━━\u001b[0m \u001b[32m140.0/140.0 kB\u001b[0m \u001b[31m6.5 MB/s\u001b[0m eta \u001b[36m0:00:00\u001b[0m\n",
            "\u001b[?25hDownloading rdflib-7.1.3-py3-none-any.whl (564 kB)\n",
            "\u001b[2K   \u001b[90m━━━━━━━━━━━━━━━━━━━━━━━━━━━━━━━━━━━━━━━━\u001b[0m \u001b[32m564.9/564.9 kB\u001b[0m \u001b[31m28.8 MB/s\u001b[0m eta \u001b[36m0:00:00\u001b[0m\n",
            "\u001b[?25hBuilding wheels for collected packages: jsonpath-rw\n",
            "  Building wheel for jsonpath-rw (setup.py) ... \u001b[?25l\u001b[?25hdone\n",
            "  Created wheel for jsonpath-rw: filename=jsonpath_rw-1.4.0-py3-none-any.whl size=15130 sha256=cd1192c735926eb5d38fc587f01095c811031adc64f77e41d74e33668ec9eaff\n",
            "  Stored in directory: /root/.cache/pip/wheels/53/cf/51/a4ea10224b7fdb523e18e2033cadf2a8657517d1f95f3f5413\n",
            "Successfully built jsonpath-rw\n",
            "Installing collected packages: rdflib, jsonpath-rw, mlcroissant\n",
            "Successfully installed jsonpath-rw-1.4.0 mlcroissant-1.0.14 rdflib-7.1.3\n"
          ]
        }
      ]
    },
    {
      "cell_type": "code",
      "execution_count": 2,
      "metadata": {
        "colab": {
          "base_uri": "https://localhost:8080/",
          "height": 313
        },
        "id": "DruhbVMusxus",
        "outputId": "a0cc5a39-b2a6-44e5-9577-9e43ec746899"
      },
      "outputs": [
        {
          "output_type": "stream",
          "name": "stderr",
          "text": [
            "WARNING:absl:WARNING: The JSON-LD `@context` is not standard. Refer to the official @context (e.g., from the example datasets in https://github.com/mlcommons/croissant/tree/main/datasets/1.0). The different keys are: {'examples', 'rai'}\n",
            "WARNING:absl:Found the following 1 warning(s) during the validation:\n",
            "  -  [Metadata(Fruits and Vegetables Prices Dataset)] Property \"http://mlcommons.org/croissant/citeAs\" is recommended, but does not exist.\n"
          ]
        },
        {
          "output_type": "stream",
          "name": "stdout",
          "text": [
            "[RecordSet(uuid=\"ProductPriceIndex.csv\")]\n"
          ]
        },
        {
          "output_type": "stream",
          "name": "stderr",
          "text": [
            "Downloading https://www.kaggle.com/api/v1/datasets/download/everydaycodings/produce-prices-dataset?datasetVersionNumber=2...: 100%|██████████| 232k/232k [00:00<00:00, 776kiB/s]\n"
          ]
        },
        {
          "output_type": "execute_result",
          "data": {
            "text/plain": [
              "  ProductPriceIndex.csv/productname ProductPriceIndex.csv/date  \\\n",
              "0                   b'Strawberries'                 2019-05-19   \n",
              "1                b'Romaine Lettuce'                 2019-05-19   \n",
              "2               b'Red Leaf Lettuce'                 2019-05-19   \n",
              "3                       b'Potatoes'                 2019-05-19   \n",
              "4                        b'Oranges'                 2019-05-19   \n",
              "\n",
              "  ProductPriceIndex.csv/farmprice ProductPriceIndex.csv/atlantaretail  \\\n",
              "0                        b'$1.16'                            b'$2.23'   \n",
              "1                        b'$0.35'                            b'$1.72'   \n",
              "2                        b'$0.32'                            b'$1.84'   \n",
              "3                        b'$1.50'                            b'$5.32'   \n",
              "4                        b'$0.41'                            b'$1.42'   \n",
              "\n",
              "  ProductPriceIndex.csv/chicagoretail ProductPriceIndex.csv/losangelesretail  \\\n",
              "0                            b'$1.70'                               b'$1.99'   \n",
              "1                            b'$2.00'                               b'$1.69'   \n",
              "2                            b'$1.84'                               b'$1.69'   \n",
              "3                            b'$5.14'                               b'$3.99'   \n",
              "4                            b'$1.45'                               b'$1.34'   \n",
              "\n",
              "  ProductPriceIndex.csv/newyorkretail ProductPriceIndex.csv/averagespread  \n",
              "0                            b'$2.54'                           b'82.33%'  \n",
              "1                            b'$1.99'                          b'428.57%'  \n",
              "2                            b'$1.89'                          b'467.19%'  \n",
              "3                            b'$6.22'                          b'244.50%'  \n",
              "4                            b'$2.05'                          b'281.71%'  "
            ],
            "text/html": [
              "\n",
              "  <div id=\"df-df897b65-bb42-4611-8047-d15b9c6a6db4\" class=\"colab-df-container\">\n",
              "    <div>\n",
              "<style scoped>\n",
              "    .dataframe tbody tr th:only-of-type {\n",
              "        vertical-align: middle;\n",
              "    }\n",
              "\n",
              "    .dataframe tbody tr th {\n",
              "        vertical-align: top;\n",
              "    }\n",
              "\n",
              "    .dataframe thead th {\n",
              "        text-align: right;\n",
              "    }\n",
              "</style>\n",
              "<table border=\"1\" class=\"dataframe\">\n",
              "  <thead>\n",
              "    <tr style=\"text-align: right;\">\n",
              "      <th></th>\n",
              "      <th>ProductPriceIndex.csv/productname</th>\n",
              "      <th>ProductPriceIndex.csv/date</th>\n",
              "      <th>ProductPriceIndex.csv/farmprice</th>\n",
              "      <th>ProductPriceIndex.csv/atlantaretail</th>\n",
              "      <th>ProductPriceIndex.csv/chicagoretail</th>\n",
              "      <th>ProductPriceIndex.csv/losangelesretail</th>\n",
              "      <th>ProductPriceIndex.csv/newyorkretail</th>\n",
              "      <th>ProductPriceIndex.csv/averagespread</th>\n",
              "    </tr>\n",
              "  </thead>\n",
              "  <tbody>\n",
              "    <tr>\n",
              "      <th>0</th>\n",
              "      <td>b'Strawberries'</td>\n",
              "      <td>2019-05-19</td>\n",
              "      <td>b'$1.16'</td>\n",
              "      <td>b'$2.23'</td>\n",
              "      <td>b'$1.70'</td>\n",
              "      <td>b'$1.99'</td>\n",
              "      <td>b'$2.54'</td>\n",
              "      <td>b'82.33%'</td>\n",
              "    </tr>\n",
              "    <tr>\n",
              "      <th>1</th>\n",
              "      <td>b'Romaine Lettuce'</td>\n",
              "      <td>2019-05-19</td>\n",
              "      <td>b'$0.35'</td>\n",
              "      <td>b'$1.72'</td>\n",
              "      <td>b'$2.00'</td>\n",
              "      <td>b'$1.69'</td>\n",
              "      <td>b'$1.99'</td>\n",
              "      <td>b'428.57%'</td>\n",
              "    </tr>\n",
              "    <tr>\n",
              "      <th>2</th>\n",
              "      <td>b'Red Leaf Lettuce'</td>\n",
              "      <td>2019-05-19</td>\n",
              "      <td>b'$0.32'</td>\n",
              "      <td>b'$1.84'</td>\n",
              "      <td>b'$1.84'</td>\n",
              "      <td>b'$1.69'</td>\n",
              "      <td>b'$1.89'</td>\n",
              "      <td>b'467.19%'</td>\n",
              "    </tr>\n",
              "    <tr>\n",
              "      <th>3</th>\n",
              "      <td>b'Potatoes'</td>\n",
              "      <td>2019-05-19</td>\n",
              "      <td>b'$1.50'</td>\n",
              "      <td>b'$5.32'</td>\n",
              "      <td>b'$5.14'</td>\n",
              "      <td>b'$3.99'</td>\n",
              "      <td>b'$6.22'</td>\n",
              "      <td>b'244.50%'</td>\n",
              "    </tr>\n",
              "    <tr>\n",
              "      <th>4</th>\n",
              "      <td>b'Oranges'</td>\n",
              "      <td>2019-05-19</td>\n",
              "      <td>b'$0.41'</td>\n",
              "      <td>b'$1.42'</td>\n",
              "      <td>b'$1.45'</td>\n",
              "      <td>b'$1.34'</td>\n",
              "      <td>b'$2.05'</td>\n",
              "      <td>b'281.71%'</td>\n",
              "    </tr>\n",
              "  </tbody>\n",
              "</table>\n",
              "</div>\n",
              "    <div class=\"colab-df-buttons\">\n",
              "\n",
              "  <div class=\"colab-df-container\">\n",
              "    <button class=\"colab-df-convert\" onclick=\"convertToInteractive('df-df897b65-bb42-4611-8047-d15b9c6a6db4')\"\n",
              "            title=\"Convert this dataframe to an interactive table.\"\n",
              "            style=\"display:none;\">\n",
              "\n",
              "  <svg xmlns=\"http://www.w3.org/2000/svg\" height=\"24px\" viewBox=\"0 -960 960 960\">\n",
              "    <path d=\"M120-120v-720h720v720H120Zm60-500h600v-160H180v160Zm220 220h160v-160H400v160Zm0 220h160v-160H400v160ZM180-400h160v-160H180v160Zm440 0h160v-160H620v160ZM180-180h160v-160H180v160Zm440 0h160v-160H620v160Z\"/>\n",
              "  </svg>\n",
              "    </button>\n",
              "\n",
              "  <style>\n",
              "    .colab-df-container {\n",
              "      display:flex;\n",
              "      gap: 12px;\n",
              "    }\n",
              "\n",
              "    .colab-df-convert {\n",
              "      background-color: #E8F0FE;\n",
              "      border: none;\n",
              "      border-radius: 50%;\n",
              "      cursor: pointer;\n",
              "      display: none;\n",
              "      fill: #1967D2;\n",
              "      height: 32px;\n",
              "      padding: 0 0 0 0;\n",
              "      width: 32px;\n",
              "    }\n",
              "\n",
              "    .colab-df-convert:hover {\n",
              "      background-color: #E2EBFA;\n",
              "      box-shadow: 0px 1px 2px rgba(60, 64, 67, 0.3), 0px 1px 3px 1px rgba(60, 64, 67, 0.15);\n",
              "      fill: #174EA6;\n",
              "    }\n",
              "\n",
              "    .colab-df-buttons div {\n",
              "      margin-bottom: 4px;\n",
              "    }\n",
              "\n",
              "    [theme=dark] .colab-df-convert {\n",
              "      background-color: #3B4455;\n",
              "      fill: #D2E3FC;\n",
              "    }\n",
              "\n",
              "    [theme=dark] .colab-df-convert:hover {\n",
              "      background-color: #434B5C;\n",
              "      box-shadow: 0px 1px 3px 1px rgba(0, 0, 0, 0.15);\n",
              "      filter: drop-shadow(0px 1px 2px rgba(0, 0, 0, 0.3));\n",
              "      fill: #FFFFFF;\n",
              "    }\n",
              "  </style>\n",
              "\n",
              "    <script>\n",
              "      const buttonEl =\n",
              "        document.querySelector('#df-df897b65-bb42-4611-8047-d15b9c6a6db4 button.colab-df-convert');\n",
              "      buttonEl.style.display =\n",
              "        google.colab.kernel.accessAllowed ? 'block' : 'none';\n",
              "\n",
              "      async function convertToInteractive(key) {\n",
              "        const element = document.querySelector('#df-df897b65-bb42-4611-8047-d15b9c6a6db4');\n",
              "        const dataTable =\n",
              "          await google.colab.kernel.invokeFunction('convertToInteractive',\n",
              "                                                    [key], {});\n",
              "        if (!dataTable) return;\n",
              "\n",
              "        const docLinkHtml = 'Like what you see? Visit the ' +\n",
              "          '<a target=\"_blank\" href=https://colab.research.google.com/notebooks/data_table.ipynb>data table notebook</a>'\n",
              "          + ' to learn more about interactive tables.';\n",
              "        element.innerHTML = '';\n",
              "        dataTable['output_type'] = 'display_data';\n",
              "        await google.colab.output.renderOutput(dataTable, element);\n",
              "        const docLink = document.createElement('div');\n",
              "        docLink.innerHTML = docLinkHtml;\n",
              "        element.appendChild(docLink);\n",
              "      }\n",
              "    </script>\n",
              "  </div>\n",
              "\n",
              "\n",
              "<div id=\"df-d056d8ce-edfb-496d-8699-56084e61cb2a\">\n",
              "  <button class=\"colab-df-quickchart\" onclick=\"quickchart('df-d056d8ce-edfb-496d-8699-56084e61cb2a')\"\n",
              "            title=\"Suggest charts\"\n",
              "            style=\"display:none;\">\n",
              "\n",
              "<svg xmlns=\"http://www.w3.org/2000/svg\" height=\"24px\"viewBox=\"0 0 24 24\"\n",
              "     width=\"24px\">\n",
              "    <g>\n",
              "        <path d=\"M19 3H5c-1.1 0-2 .9-2 2v14c0 1.1.9 2 2 2h14c1.1 0 2-.9 2-2V5c0-1.1-.9-2-2-2zM9 17H7v-7h2v7zm4 0h-2V7h2v10zm4 0h-2v-4h2v4z\"/>\n",
              "    </g>\n",
              "</svg>\n",
              "  </button>\n",
              "\n",
              "<style>\n",
              "  .colab-df-quickchart {\n",
              "      --bg-color: #E8F0FE;\n",
              "      --fill-color: #1967D2;\n",
              "      --hover-bg-color: #E2EBFA;\n",
              "      --hover-fill-color: #174EA6;\n",
              "      --disabled-fill-color: #AAA;\n",
              "      --disabled-bg-color: #DDD;\n",
              "  }\n",
              "\n",
              "  [theme=dark] .colab-df-quickchart {\n",
              "      --bg-color: #3B4455;\n",
              "      --fill-color: #D2E3FC;\n",
              "      --hover-bg-color: #434B5C;\n",
              "      --hover-fill-color: #FFFFFF;\n",
              "      --disabled-bg-color: #3B4455;\n",
              "      --disabled-fill-color: #666;\n",
              "  }\n",
              "\n",
              "  .colab-df-quickchart {\n",
              "    background-color: var(--bg-color);\n",
              "    border: none;\n",
              "    border-radius: 50%;\n",
              "    cursor: pointer;\n",
              "    display: none;\n",
              "    fill: var(--fill-color);\n",
              "    height: 32px;\n",
              "    padding: 0;\n",
              "    width: 32px;\n",
              "  }\n",
              "\n",
              "  .colab-df-quickchart:hover {\n",
              "    background-color: var(--hover-bg-color);\n",
              "    box-shadow: 0 1px 2px rgba(60, 64, 67, 0.3), 0 1px 3px 1px rgba(60, 64, 67, 0.15);\n",
              "    fill: var(--button-hover-fill-color);\n",
              "  }\n",
              "\n",
              "  .colab-df-quickchart-complete:disabled,\n",
              "  .colab-df-quickchart-complete:disabled:hover {\n",
              "    background-color: var(--disabled-bg-color);\n",
              "    fill: var(--disabled-fill-color);\n",
              "    box-shadow: none;\n",
              "  }\n",
              "\n",
              "  .colab-df-spinner {\n",
              "    border: 2px solid var(--fill-color);\n",
              "    border-color: transparent;\n",
              "    border-bottom-color: var(--fill-color);\n",
              "    animation:\n",
              "      spin 1s steps(1) infinite;\n",
              "  }\n",
              "\n",
              "  @keyframes spin {\n",
              "    0% {\n",
              "      border-color: transparent;\n",
              "      border-bottom-color: var(--fill-color);\n",
              "      border-left-color: var(--fill-color);\n",
              "    }\n",
              "    20% {\n",
              "      border-color: transparent;\n",
              "      border-left-color: var(--fill-color);\n",
              "      border-top-color: var(--fill-color);\n",
              "    }\n",
              "    30% {\n",
              "      border-color: transparent;\n",
              "      border-left-color: var(--fill-color);\n",
              "      border-top-color: var(--fill-color);\n",
              "      border-right-color: var(--fill-color);\n",
              "    }\n",
              "    40% {\n",
              "      border-color: transparent;\n",
              "      border-right-color: var(--fill-color);\n",
              "      border-top-color: var(--fill-color);\n",
              "    }\n",
              "    60% {\n",
              "      border-color: transparent;\n",
              "      border-right-color: var(--fill-color);\n",
              "    }\n",
              "    80% {\n",
              "      border-color: transparent;\n",
              "      border-right-color: var(--fill-color);\n",
              "      border-bottom-color: var(--fill-color);\n",
              "    }\n",
              "    90% {\n",
              "      border-color: transparent;\n",
              "      border-bottom-color: var(--fill-color);\n",
              "    }\n",
              "  }\n",
              "</style>\n",
              "\n",
              "  <script>\n",
              "    async function quickchart(key) {\n",
              "      const quickchartButtonEl =\n",
              "        document.querySelector('#' + key + ' button');\n",
              "      quickchartButtonEl.disabled = true;  // To prevent multiple clicks.\n",
              "      quickchartButtonEl.classList.add('colab-df-spinner');\n",
              "      try {\n",
              "        const charts = await google.colab.kernel.invokeFunction(\n",
              "            'suggestCharts', [key], {});\n",
              "      } catch (error) {\n",
              "        console.error('Error during call to suggestCharts:', error);\n",
              "      }\n",
              "      quickchartButtonEl.classList.remove('colab-df-spinner');\n",
              "      quickchartButtonEl.classList.add('colab-df-quickchart-complete');\n",
              "    }\n",
              "    (() => {\n",
              "      let quickchartButtonEl =\n",
              "        document.querySelector('#df-d056d8ce-edfb-496d-8699-56084e61cb2a button');\n",
              "      quickchartButtonEl.style.display =\n",
              "        google.colab.kernel.accessAllowed ? 'block' : 'none';\n",
              "    })();\n",
              "  </script>\n",
              "</div>\n",
              "\n",
              "    </div>\n",
              "  </div>\n"
            ],
            "application/vnd.google.colaboratory.intrinsic+json": {
              "type": "dataframe",
              "variable_name": "record_set_df",
              "summary": "{\n  \"name\": \"record_set_df\",\n  \"rows\": 15766,\n  \"fields\": [\n    {\n      \"column\": \"ProductPriceIndex.csv/productname\",\n      \"properties\": {\n        \"dtype\": \"category\",\n        \"num_unique_values\": 22,\n        \"samples\": [\n          \"b'Strawberries'\",\n          \"b'Broccoli Bunches'\",\n          \"b'Cauliflower'\"\n        ],\n        \"semantic_type\": \"\",\n        \"description\": \"\"\n      }\n    },\n    {\n      \"column\": \"ProductPriceIndex.csv/date\",\n      \"properties\": {\n        \"dtype\": \"date\",\n        \"min\": \"1999-10-24 00:00:00\",\n        \"max\": \"2019-05-19 00:00:00\",\n        \"num_unique_values\": 1019,\n        \"samples\": [\n          \"2009-05-17 00:00:00\",\n          \"2010-09-12 00:00:00\",\n          \"2010-12-19 00:00:00\"\n        ],\n        \"semantic_type\": \"\",\n        \"description\": \"\"\n      }\n    },\n    {\n      \"column\": \"ProductPriceIndex.csv/farmprice\",\n      \"properties\": {\n        \"dtype\": \"category\",\n        \"num_unique_values\": 316,\n        \"samples\": [\n          \"b'$0.62'\",\n          \"b'$0.94'\",\n          \"b'$1.40'\"\n        ],\n        \"semantic_type\": \"\",\n        \"description\": \"\"\n      }\n    },\n    {\n      \"column\": \"ProductPriceIndex.csv/atlantaretail\",\n      \"properties\": {\n        \"dtype\": \"category\",\n        \"num_unique_values\": 528,\n        \"samples\": [\n          \"b'$1.68'\",\n          \"b'$3.50'\",\n          \"b'$1.89'\"\n        ],\n        \"semantic_type\": \"\",\n        \"description\": \"\"\n      }\n    },\n    {\n      \"column\": \"ProductPriceIndex.csv/chicagoretail\",\n      \"properties\": {\n        \"dtype\": \"category\",\n        \"num_unique_values\": 458,\n        \"samples\": [\n          \"b'$5.49'\",\n          \"b'$2.31'\",\n          \"b'$3.93'\"\n        ],\n        \"semantic_type\": \"\",\n        \"description\": \"\"\n      }\n    },\n    {\n      \"column\": \"ProductPriceIndex.csv/losangelesretail\",\n      \"properties\": {\n        \"dtype\": \"category\",\n        \"num_unique_values\": 436,\n        \"samples\": [\n          \"b'$2.82'\",\n          \"b'$3.66'\",\n          \"b'$1.05'\"\n        ],\n        \"semantic_type\": \"\",\n        \"description\": \"\"\n      }\n    },\n    {\n      \"column\": \"ProductPriceIndex.csv/newyorkretail\",\n      \"properties\": {\n        \"dtype\": \"category\",\n        \"num_unique_values\": 406,\n        \"samples\": [\n          \"b'$2.17'\",\n          \"b'$1.14'\",\n          \"b'$4.97'\"\n        ],\n        \"semantic_type\": \"\",\n        \"description\": \"\"\n      }\n    },\n    {\n      \"column\": \"ProductPriceIndex.csv/averagespread\",\n      \"properties\": {\n        \"dtype\": \"string\",\n        \"num_unique_values\": 10492,\n        \"samples\": [\n          \"b'268.93%'\",\n          \"b'102.96%'\",\n          \"b'281.77%'\"\n        ],\n        \"semantic_type\": \"\",\n        \"description\": \"\"\n      }\n    }\n  ]\n}"
            }
          },
          "metadata": {},
          "execution_count": 2
        }
      ],
      "source": [
        "import mlcroissant as mlc\n",
        "import pandas as pd\n",
        "\n",
        "# Fetch the Croissant JSON-LD\n",
        "croissant_dataset = mlc.Dataset('https://www.kaggle.com/datasets/everydaycodings/produce-prices-dataset/croissant/download')\n",
        "\n",
        "# Check what record sets are in the dataset\n",
        "record_sets = croissant_dataset.metadata.record_sets\n",
        "print(record_sets)\n",
        "\n",
        "# Fetch the records and put them in a DataFrame\n",
        "record_set_df = pd.DataFrame(croissant_dataset.records(record_set=record_sets[0].uuid))\n",
        "record_set_df.head()\n"
      ]
    },
    {
      "cell_type": "markdown",
      "metadata": {
        "id": "XPz6s60tsxut"
      },
      "source": [
        "## Pré-processamento dos Dados\n",
        "- **Tratamento de Datas:** Conversão da coluna de datas para o formato `datetime` e, se necessário, definição da coluna de data como índice.\n",
        "- **Limpeza dos Dados:** Identificação e tratamento de valores ausentes ou inconsistentes.\n",
        "- **Normalização:** Escalonamento dos preços para facilitar o treinamento do modelo.\n",
        "- **Criação de Sequências Temporais:** Transformação dos dados em sequências (por exemplo, utilizando os últimos 30 dias de preços para prever o preço do dia seguinte), garantindo que a ordem temporal seja preservada."
      ]
    },
    {
      "cell_type": "code",
      "execution_count": 3,
      "metadata": {
        "colab": {
          "base_uri": "https://localhost:8080/"
        },
        "id": "TAAve0fUsxut",
        "outputId": "a6b4a3d5-837c-4920-830d-87c70884c914"
      },
      "outputs": [
        {
          "output_type": "stream",
          "name": "stdout",
          "text": [
            "Requirement already satisfied: matplotlib in /usr/local/lib/python3.11/dist-packages (3.10.0)\n",
            "Requirement already satisfied: contourpy>=1.0.1 in /usr/local/lib/python3.11/dist-packages (from matplotlib) (1.3.1)\n",
            "Requirement already satisfied: cycler>=0.10 in /usr/local/lib/python3.11/dist-packages (from matplotlib) (0.12.1)\n",
            "Requirement already satisfied: fonttools>=4.22.0 in /usr/local/lib/python3.11/dist-packages (from matplotlib) (4.56.0)\n",
            "Requirement already satisfied: kiwisolver>=1.3.1 in /usr/local/lib/python3.11/dist-packages (from matplotlib) (1.4.8)\n",
            "Requirement already satisfied: numpy>=1.23 in /usr/local/lib/python3.11/dist-packages (from matplotlib) (2.0.2)\n",
            "Requirement already satisfied: packaging>=20.0 in /usr/local/lib/python3.11/dist-packages (from matplotlib) (24.2)\n",
            "Requirement already satisfied: pillow>=8 in /usr/local/lib/python3.11/dist-packages (from matplotlib) (11.1.0)\n",
            "Requirement already satisfied: pyparsing>=2.3.1 in /usr/local/lib/python3.11/dist-packages (from matplotlib) (3.2.1)\n",
            "Requirement already satisfied: python-dateutil>=2.7 in /usr/local/lib/python3.11/dist-packages (from matplotlib) (2.8.2)\n",
            "Requirement already satisfied: six>=1.5 in /usr/local/lib/python3.11/dist-packages (from python-dateutil>=2.7->matplotlib) (1.17.0)\n"
          ]
        }
      ],
      "source": [
        "!pip install matplotlib"
      ]
    },
    {
      "cell_type": "code",
      "execution_count": 11,
      "metadata": {
        "id": "e501JHM_sxut"
      },
      "outputs": [],
      "source": [
        "import pandas as pd\n",
        "import numpy as np\n",
        "from sklearn.preprocessing import MinMaxScaler\n",
        "\n",
        "\n",
        "df = record_set_df.copy()\n",
        "\n",
        "columns_mapping = {\n",
        "    'ProductPriceIndex.csv/productname': 'productname',\n",
        "    'ProductPriceIndex.csv/date': 'date',\n",
        "    'ProductPriceIndex.csv/farmprice': 'farmprice',\n",
        "    'ProductPriceIndex.csv/atlantaretail': 'atlantaretail',\n",
        "    'ProductPriceIndex.csv/chicagoretail': 'chicagoretail',\n",
        "    'ProductPriceIndex.csv/losangelesretail': 'losangelesretail',\n",
        "    'ProductPriceIndex.csv/newyorkretail': 'newyorkretail',\n",
        "    'ProductPriceIndex.csv/averagespread': 'averagespread'\n",
        "}\n",
        "df = df.rename(columns=columns_mapping)\n",
        "\n",
        "for col in df.columns:\n",
        "    if df[col].dtype == object:\n",
        "        if len(df) > 0 and isinstance(df[col].iloc[0], bytes):\n",
        "            df[col] = df[col].apply(lambda x: x.decode('utf-8') if isinstance(x, bytes) else x)\n",
        "\n",
        "df['date'] = pd.to_datetime(df['date'])\n",
        "df = df.loc[:, ~df.columns.duplicated()]"
      ]
    },
    {
      "cell_type": "code",
      "source": [
        "# 2. LIMPEZA DOS DADOS\n",
        "# Remover linhas sem nome de produto\n",
        "df = df.dropna(subset=['productname'])\n",
        "\n",
        "# Converter colunas de preço para númerico (remover $ e converter para float)\n",
        "price_columns = ['farmprice', 'atlantaretail', 'chicagoretail',\n",
        "                'losangelesretail', 'newyorkretail']\n",
        "\n",
        "for col in price_columns:\n",
        "    # Tratar strings vazias e converter para float com tratamento de erros\n",
        "    df[col] = df[col].replace('', np.nan)  # Substituir strings vazias por NaN\n",
        "    df[col] = df[col].str.replace('$', '', regex=False)  # Remover $\n",
        "    df[col] = pd.to_numeric(df[col], errors='coerce')  # Converter para float, forçando erros para NaN\n",
        "\n",
        "# Verificar valores ausentes nas colunas de preço\n",
        "missing_values = df[price_columns].isna().sum()\n",
        "print(\"Valores ausentes nas colunas de preço:\\n\", missing_values)\n",
        "\n",
        "# Preencher valores ausentes com a média da coluna\n",
        "for col in price_columns:\n",
        "    df[col] = df[col].fillna(df[col].mean())\n",
        "\n",
        "# Recalcular a coluna averagespread\n",
        "df['averagespread'] = ((df[price_columns[1:]].mean(axis=1) / df['farmprice'] - 1) * 100)\n",
        "\n"
      ],
      "metadata": {
        "colab": {
          "base_uri": "https://localhost:8080/"
        },
        "id": "0gT79r8xvP_d",
        "outputId": "5d871161-23a7-489f-96b9-5440eaf13174"
      },
      "execution_count": 12,
      "outputs": [
        {
          "output_type": "stream",
          "name": "stdout",
          "text": [
            "Valores ausentes nas colunas de preço:\n",
            " farmprice           1\n",
            "atlantaretail       1\n",
            "chicagoretail       0\n",
            "losangelesretail    0\n",
            "newyorkretail       8\n",
            "dtype: int64\n"
          ]
        }
      ]
    },
    {
      "cell_type": "code",
      "source": [
        "# 3. NORMALIZAÇÃO\n",
        "# Criar versão normalizada dos dados para os preços\n",
        "scaler = MinMaxScaler()\n",
        "df_normalized = df.copy()\n",
        "df_normalized[price_columns] = scaler.fit_transform(df[price_columns])"
      ],
      "metadata": {
        "id": "_bxn_UdIvYEl"
      },
      "execution_count": 13,
      "outputs": []
    },
    {
      "cell_type": "code",
      "source": [
        "# 4. CRIAÇÃO DE SEQUÊNCIAS TEMPORAIS\n",
        "# Ordenar por produto e data\n",
        "df_sorted = df.sort_values(['productname', 'date'])\n",
        "\n",
        "df_time = df.copy()\n",
        "df_time.set_index('date', inplace=True)\n",
        "\n",
        "def create_sequences(data, target_col, sequence_length=30):\n",
        "    X, y = [], []\n",
        "    values = data[target_col].values\n",
        "\n",
        "    for i in range(len(values) - sequence_length):\n",
        "        X.append(values[i:i+sequence_length])\n",
        "        y.append(values[i+sequence_length])\n",
        "\n",
        "    return np.array(X), np.array(y)\n",
        "\n",
        "# Criar DataFrames individuais por produto\n",
        "products = df['productname'].unique()\n",
        "product_dfs = {}\n",
        "\n",
        "for product in products:\n",
        "    product_df = df[df['productname'] == product].sort_values('date')\n",
        "    if len(product_df) > 30:  # Garantir que há dados suficientes para sequências\n",
        "        product_dfs[product] = product_df\n",
        "\n",
        "# Exemplos de criação de sequências para alguns produtos\n",
        "sequence_data = {}\n",
        "for product, product_df in list(product_dfs.items())[:3]:  # Processar apenas os 3 primeiros produtos\n",
        "    if len(product_df) > 30:\n",
        "        X, y = create_sequences(product_df, 'farmprice', sequence_length=30)\n",
        "        sequence_data[product] = (X, y)\n",
        "        print(f\"Produto: {product}, Formato das sequências: X {X.shape}, y {y.shape}\")\n",
        "\n",
        "df.to_csv('produce_prices_preprocessed.csv', index=False)\n",
        "df_normalized.to_csv('produce_prices_normalized.csv', index=False)\n",
        "df_time.to_csv('produce_prices_time_indexed.csv')\n"
      ],
      "metadata": {
        "colab": {
          "base_uri": "https://localhost:8080/"
        },
        "id": "8NNd1usjvLdg",
        "outputId": "f914c4c5-4523-4a5d-8214-9e127faf2c35"
      },
      "execution_count": 15,
      "outputs": [
        {
          "output_type": "stream",
          "name": "stdout",
          "text": [
            "Produto: Strawberries, Formato das sequências: X (943, 30), y (943,)\n",
            "Produto: Romaine Lettuce, Formato das sequências: X (983, 30), y (983,)\n",
            "Produto: Red Leaf Lettuce, Formato das sequências: X (984, 30), y (984,)\n"
          ]
        }
      ]
    },
    {
      "cell_type": "markdown",
      "metadata": {
        "id": "L2QaOHF3sxuu"
      },
      "source": [
        "## Definição da Arquitetura da RNN\n",
        "- **Modelo:** Criação de uma classe para a RNN, definindo:\n",
        "  - Uma camada recorrente (pode ser uma RNN simples, LSTM ou GRU).\n",
        "  - Uma camada de saída que gera a previsão do preço.\n",
        "- **Funcionamento:** Explicação de como a RNN utiliza o histórico de preços para aprender os padrões temporais e realizar as previsões."
      ]
    },
    {
      "cell_type": "markdown",
      "metadata": {
        "id": "nNp7hsq9sxuu"
      },
      "source": [
        "## Configuração do Treinamento\n",
        "- **Preparação dos Dados:** Conversão das sequências e dos valores-alvo em tensores (caso use PyTorch, por exemplo) e criação de DataLoaders para facilitar o processamento em batches.\n",
        "- **Definição da Função de Perda e Otimizador:** Uso de uma métrica de erro (como o Mean Squared Error - MSE) e escolha de um otimizador (por exemplo, Adam).\n",
        "- **Configuração de Hiperparâmetros:** Definição do número de épocas, tamanho do batch, taxa de aprendizado, entre outros."
      ]
    },
    {
      "cell_type": "markdown",
      "metadata": {
        "id": "KWVLTlrLsxuu"
      },
      "source": [
        "## Treinamento do Modelo\n",
        "- **Loop de Treinamento:** Processamento dos batches de dados, cálculo da perda, realização do backpropagation e atualização dos pesos.\n",
        "- **Monitoramento:** Registro e visualização da evolução da perda durante o treinamento para acompanhar o desempenho do modelo."
      ]
    },
    {
      "cell_type": "markdown",
      "metadata": {
        "id": "h-8gJyBXsxuu"
      },
      "source": [
        "## Avaliação e Predição\n",
        "- **Avaliação:** Utilização de um conjunto de teste para avaliar a performance do modelo, comparando as previsões com os valores reais.\n",
        "- **Visualização dos Resultados:** Criação de gráficos que mostrem as previsões versus os valores reais para identificar se o modelo está capturando os padrões esperados."
      ]
    },
    {
      "cell_type": "markdown",
      "metadata": {
        "id": "z9-gNE_Isxuv"
      },
      "source": [
        "## Conclusões e Próximos Passos\n",
        "- **Resumo dos Resultados:** Discussão sobre o desempenho do modelo e os principais aprendizados obtidos durante o projeto.\n",
        "- **Limitações e Melhorias:** Identificação das limitações atuais e sugestões de possíveis melhorias, como ajuste de hiperparâmetros ou experimentação com arquiteturas mais avançadas (por exemplo, LSTM ou GRU).\n",
        "- **Perspectivas Futuras:** Ideias para expandir o projeto, aplicando a metodologia a outros datasets ou integrando novas fontes de dados."
      ]
    }
  ],
  "metadata": {
    "kernelspec": {
      "display_name": "Python 3",
      "language": "python",
      "name": "python3"
    },
    "language_info": {
      "codemirror_mode": {
        "name": "ipython",
        "version": 3
      },
      "file_extension": ".py",
      "mimetype": "text/x-python",
      "name": "python",
      "nbconvert_exporter": "python",
      "pygments_lexer": "ipython3",
      "version": "3.13.2"
    },
    "colab": {
      "provenance": []
    }
  },
  "nbformat": 4,
  "nbformat_minor": 0
}