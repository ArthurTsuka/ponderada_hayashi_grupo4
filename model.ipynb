{
  "cells": [
    {
      "cell_type": "markdown",
      "metadata": {
        "id": "rGffohTRsxuo"
      },
      "source": [
        "# Previsão de Preços de Frutas e Vegetais com Redes Neurais Recorrentes (RNN)\n",
        "\n",
        "## Introdução\n",
        "Neste notebook, iremos utilizar uma Rede Neural Recorrente (RNN) para prever os preços de frutas e vegetais a partir de dados históricos contidos no dataset \"Fruits and Vegetables Prices Dataset\". O objetivo é demonstrar como podemos aplicar técnicas de deep learning em séries temporais para capturar padrões e tendências nos preços ao longo do tempo.\n",
        "\n",
        "## Objetivos\n",
        "- Implementar uma RNN do zero para realizar previsões de preços.\n",
        "- Explorar e analisar os dados históricos do dataset.\n",
        "- Avaliar o desempenho do modelo e discutir possíveis melhorias."
      ]
    },
    {
      "cell_type": "markdown",
      "metadata": {
        "id": "j4x60PU-sxur"
      },
      "source": [
        "## Bibliotecas e Configurações Iniciais\n",
        "Nesta seção, serão importadas as bibliotecas necessárias (como `pandas`, `numpy`, e um framework de deep learning, por exemplo, PyTorch ou TensorFlow) e realizadas as configurações iniciais, como definição de semente para reprodutibilidade e configuração do ambiente de trabalho.\n"
      ]
    },
    {
      "cell_type": "markdown",
      "metadata": {
        "id": "DhnxoUAAsxur"
      },
      "source": [
        "## Carregamento e Exploração do Dataset\n",
        "- **Carregamento dos Dados:** Leitura do dataset (por exemplo, de um arquivo CSV) contendo os preços históricos de frutas e vegetais.\n",
        "- **Exploração Inicial:** Exibição das primeiras linhas, análise de informações gerais (dimensões, tipos de dados, valores ausentes) e visualização de gráficos para entender a evolução dos preços ao longo do tempo."
      ]
    },
    {
      "cell_type": "code",
      "execution_count": 2,
      "metadata": {
        "colab": {
          "base_uri": "https://localhost:8080/"
        },
        "id": "N7yn6gA1sytk",
        "outputId": "6abbb2c3-f774-46e1-f86b-c05132f865f2"
      },
      "outputs": [
        {
          "name": "stdout",
          "output_type": "stream",
          "text": [
            "Requirement already satisfied: mlcroissant in c:\\users\\vinic\\appdata\\local\\programs\\python\\python313\\lib\\site-packages (1.0.14)\n",
            "Requirement already satisfied: absl-py in c:\\users\\vinic\\appdata\\local\\programs\\python\\python313\\lib\\site-packages (from mlcroissant) (2.1.0)\n",
            "Requirement already satisfied: etils>=1.7.0 in c:\\users\\vinic\\appdata\\local\\programs\\python\\python313\\lib\\site-packages (from etils[epath]>=1.7.0->mlcroissant) (1.12.0)\n",
            "Requirement already satisfied: jsonpath-rw in c:\\users\\vinic\\appdata\\local\\programs\\python\\python313\\lib\\site-packages (from mlcroissant) (1.4.0)\n",
            "Requirement already satisfied: networkx in c:\\users\\vinic\\appdata\\local\\programs\\python\\python313\\lib\\site-packages (from mlcroissant) (3.4.2)\n",
            "Requirement already satisfied: pandas in c:\\users\\vinic\\appdata\\local\\programs\\python\\python313\\lib\\site-packages (from mlcroissant) (2.2.3)\n",
            "Requirement already satisfied: pandas-stubs in c:\\users\\vinic\\appdata\\local\\programs\\python\\python313\\lib\\site-packages (from mlcroissant) (2.2.3.250308)\n",
            "Requirement already satisfied: python-dateutil in c:\\users\\vinic\\appdata\\roaming\\python\\python313\\site-packages (from mlcroissant) (2.9.0.post0)\n",
            "Requirement already satisfied: rdflib in c:\\users\\vinic\\appdata\\local\\programs\\python\\python313\\lib\\site-packages (from mlcroissant) (7.1.3)\n",
            "Requirement already satisfied: requests in c:\\users\\vinic\\appdata\\local\\programs\\python\\python313\\lib\\site-packages (from mlcroissant) (2.32.3)\n",
            "Requirement already satisfied: tqdm in c:\\users\\vinic\\appdata\\local\\programs\\python\\python313\\lib\\site-packages (from mlcroissant) (4.67.1)\n",
            "Requirement already satisfied: fsspec in c:\\users\\vinic\\appdata\\local\\programs\\python\\python313\\lib\\site-packages (from etils[epath]>=1.7.0->mlcroissant) (2025.2.0)\n",
            "Requirement already satisfied: importlib_resources in c:\\users\\vinic\\appdata\\local\\programs\\python\\python313\\lib\\site-packages (from etils[epath]>=1.7.0->mlcroissant) (6.5.2)\n",
            "Requirement already satisfied: typing_extensions in c:\\users\\vinic\\appdata\\local\\programs\\python\\python313\\lib\\site-packages (from etils[epath]>=1.7.0->mlcroissant) (4.12.2)\n",
            "Requirement already satisfied: zipp in c:\\users\\vinic\\appdata\\local\\programs\\python\\python313\\lib\\site-packages (from etils[epath]>=1.7.0->mlcroissant) (3.21.0)\n",
            "Requirement already satisfied: ply in c:\\users\\vinic\\appdata\\local\\programs\\python\\python313\\lib\\site-packages (from jsonpath-rw->mlcroissant) (3.11)\n",
            "Requirement already satisfied: decorator in c:\\users\\vinic\\appdata\\roaming\\python\\python313\\site-packages (from jsonpath-rw->mlcroissant) (5.1.1)\n",
            "Requirement already satisfied: six in c:\\users\\vinic\\appdata\\local\\programs\\python\\python313\\lib\\site-packages (from jsonpath-rw->mlcroissant) (1.17.0)\n",
            "Requirement already satisfied: numpy>=1.26.0 in c:\\users\\vinic\\appdata\\local\\programs\\python\\python313\\lib\\site-packages (from pandas->mlcroissant) (2.2.2)\n",
            "Requirement already satisfied: pytz>=2020.1 in c:\\users\\vinic\\appdata\\local\\programs\\python\\python313\\lib\\site-packages (from pandas->mlcroissant) (2025.1)\n",
            "Requirement already satisfied: tzdata>=2022.7 in c:\\users\\vinic\\appdata\\local\\programs\\python\\python313\\lib\\site-packages (from pandas->mlcroissant) (2025.1)\n",
            "Requirement already satisfied: types-pytz>=2022.1.1 in c:\\users\\vinic\\appdata\\local\\programs\\python\\python313\\lib\\site-packages (from pandas-stubs->mlcroissant) (2025.1.0.20250318)\n",
            "Requirement already satisfied: pyparsing<4,>=2.1.0 in c:\\users\\vinic\\appdata\\local\\programs\\python\\python313\\lib\\site-packages (from rdflib->mlcroissant) (3.2.1)\n",
            "Requirement already satisfied: charset-normalizer<4,>=2 in c:\\users\\vinic\\appdata\\local\\programs\\python\\python313\\lib\\site-packages (from requests->mlcroissant) (3.4.1)\n",
            "Requirement already satisfied: idna<4,>=2.5 in c:\\users\\vinic\\appdata\\local\\programs\\python\\python313\\lib\\site-packages (from requests->mlcroissant) (3.10)\n",
            "Requirement already satisfied: urllib3<3,>=1.21.1 in c:\\users\\vinic\\appdata\\local\\programs\\python\\python313\\lib\\site-packages (from requests->mlcroissant) (2.3.0)\n",
            "Requirement already satisfied: certifi>=2017.4.17 in c:\\users\\vinic\\appdata\\local\\programs\\python\\python313\\lib\\site-packages (from requests->mlcroissant) (2025.1.31)\n",
            "Requirement already satisfied: colorama in c:\\users\\vinic\\appdata\\local\\programs\\python\\python313\\lib\\site-packages (from tqdm->mlcroissant) (0.4.6)\n"
          ]
        }
      ],
      "source": [
        "!pip install mlcroissant"
      ]
    },
    {
      "cell_type": "code",
      "execution_count": 3,
      "metadata": {
        "colab": {
          "base_uri": "https://localhost:8080/",
          "height": 313
        },
        "id": "DruhbVMusxus",
        "outputId": "a0cc5a39-b2a6-44e5-9577-9e43ec746899"
      },
      "outputs": [
        {
          "name": "stderr",
          "output_type": "stream",
          "text": [
            "WARNING:absl:WARNING: The JSON-LD `@context` is not standard. Refer to the official @context (e.g., from the example datasets in https://github.com/mlcommons/croissant/tree/main/datasets/1.0). The different keys are: {'examples', 'rai'}\n",
            "WARNING:absl:Found the following 1 warning(s) during the validation:\n",
            "  -  [Metadata(Fruits and Vegetables Prices Dataset)] Property \"http://mlcommons.org/croissant/citeAs\" is recommended, but does not exist.\n"
          ]
        },
        {
          "name": "stdout",
          "output_type": "stream",
          "text": [
            "[RecordSet(uuid=\"ProductPriceIndex.csv\")]\n"
          ]
        },
        {
          "data": {
            "text/html": [
              "<div>\n",
              "<style scoped>\n",
              "    .dataframe tbody tr th:only-of-type {\n",
              "        vertical-align: middle;\n",
              "    }\n",
              "\n",
              "    .dataframe tbody tr th {\n",
              "        vertical-align: top;\n",
              "    }\n",
              "\n",
              "    .dataframe thead th {\n",
              "        text-align: right;\n",
              "    }\n",
              "</style>\n",
              "<table border=\"1\" class=\"dataframe\">\n",
              "  <thead>\n",
              "    <tr style=\"text-align: right;\">\n",
              "      <th></th>\n",
              "      <th>ProductPriceIndex.csv/productname</th>\n",
              "      <th>ProductPriceIndex.csv/date</th>\n",
              "      <th>ProductPriceIndex.csv/farmprice</th>\n",
              "      <th>ProductPriceIndex.csv/atlantaretail</th>\n",
              "      <th>ProductPriceIndex.csv/chicagoretail</th>\n",
              "      <th>ProductPriceIndex.csv/losangelesretail</th>\n",
              "      <th>ProductPriceIndex.csv/newyorkretail</th>\n",
              "      <th>ProductPriceIndex.csv/averagespread</th>\n",
              "    </tr>\n",
              "  </thead>\n",
              "  <tbody>\n",
              "    <tr>\n",
              "      <th>0</th>\n",
              "      <td>b'Strawberries'</td>\n",
              "      <td>2019-05-19</td>\n",
              "      <td>b'$1.16'</td>\n",
              "      <td>b'$2.23'</td>\n",
              "      <td>b'$1.70'</td>\n",
              "      <td>b'$1.99'</td>\n",
              "      <td>b'$2.54'</td>\n",
              "      <td>b'82.33%'</td>\n",
              "    </tr>\n",
              "    <tr>\n",
              "      <th>1</th>\n",
              "      <td>b'Romaine Lettuce'</td>\n",
              "      <td>2019-05-19</td>\n",
              "      <td>b'$0.35'</td>\n",
              "      <td>b'$1.72'</td>\n",
              "      <td>b'$2.00'</td>\n",
              "      <td>b'$1.69'</td>\n",
              "      <td>b'$1.99'</td>\n",
              "      <td>b'428.57%'</td>\n",
              "    </tr>\n",
              "    <tr>\n",
              "      <th>2</th>\n",
              "      <td>b'Red Leaf Lettuce'</td>\n",
              "      <td>2019-05-19</td>\n",
              "      <td>b'$0.32'</td>\n",
              "      <td>b'$1.84'</td>\n",
              "      <td>b'$1.84'</td>\n",
              "      <td>b'$1.69'</td>\n",
              "      <td>b'$1.89'</td>\n",
              "      <td>b'467.19%'</td>\n",
              "    </tr>\n",
              "    <tr>\n",
              "      <th>3</th>\n",
              "      <td>b'Potatoes'</td>\n",
              "      <td>2019-05-19</td>\n",
              "      <td>b'$1.50'</td>\n",
              "      <td>b'$5.32'</td>\n",
              "      <td>b'$5.14'</td>\n",
              "      <td>b'$3.99'</td>\n",
              "      <td>b'$6.22'</td>\n",
              "      <td>b'244.50%'</td>\n",
              "    </tr>\n",
              "    <tr>\n",
              "      <th>4</th>\n",
              "      <td>b'Oranges'</td>\n",
              "      <td>2019-05-19</td>\n",
              "      <td>b'$0.41'</td>\n",
              "      <td>b'$1.42'</td>\n",
              "      <td>b'$1.45'</td>\n",
              "      <td>b'$1.34'</td>\n",
              "      <td>b'$2.05'</td>\n",
              "      <td>b'281.71%'</td>\n",
              "    </tr>\n",
              "  </tbody>\n",
              "</table>\n",
              "</div>"
            ],
            "text/plain": [
              "  ProductPriceIndex.csv/productname ProductPriceIndex.csv/date  \\\n",
              "0                   b'Strawberries'                 2019-05-19   \n",
              "1                b'Romaine Lettuce'                 2019-05-19   \n",
              "2               b'Red Leaf Lettuce'                 2019-05-19   \n",
              "3                       b'Potatoes'                 2019-05-19   \n",
              "4                        b'Oranges'                 2019-05-19   \n",
              "\n",
              "  ProductPriceIndex.csv/farmprice ProductPriceIndex.csv/atlantaretail  \\\n",
              "0                        b'$1.16'                            b'$2.23'   \n",
              "1                        b'$0.35'                            b'$1.72'   \n",
              "2                        b'$0.32'                            b'$1.84'   \n",
              "3                        b'$1.50'                            b'$5.32'   \n",
              "4                        b'$0.41'                            b'$1.42'   \n",
              "\n",
              "  ProductPriceIndex.csv/chicagoretail ProductPriceIndex.csv/losangelesretail  \\\n",
              "0                            b'$1.70'                               b'$1.99'   \n",
              "1                            b'$2.00'                               b'$1.69'   \n",
              "2                            b'$1.84'                               b'$1.69'   \n",
              "3                            b'$5.14'                               b'$3.99'   \n",
              "4                            b'$1.45'                               b'$1.34'   \n",
              "\n",
              "  ProductPriceIndex.csv/newyorkretail ProductPriceIndex.csv/averagespread  \n",
              "0                            b'$2.54'                           b'82.33%'  \n",
              "1                            b'$1.99'                          b'428.57%'  \n",
              "2                            b'$1.89'                          b'467.19%'  \n",
              "3                            b'$6.22'                          b'244.50%'  \n",
              "4                            b'$2.05'                          b'281.71%'  "
            ]
          },
          "execution_count": 3,
          "metadata": {},
          "output_type": "execute_result"
        }
      ],
      "source": [
        "import mlcroissant as mlc\n",
        "import pandas as pd\n",
        "\n",
        "# Fetch the Croissant JSON-LD\n",
        "croissant_dataset = mlc.Dataset('https://www.kaggle.com/datasets/everydaycodings/produce-prices-dataset/croissant/download')\n",
        "\n",
        "# Check what record sets are in the dataset\n",
        "record_sets = croissant_dataset.metadata.record_sets\n",
        "print(record_sets)\n",
        "\n",
        "# Fetch the records and put them in a DataFrame\n",
        "record_set_df = pd.DataFrame(croissant_dataset.records(record_set=record_sets[0].uuid))\n",
        "record_set_df.head()\n"
      ]
    },
    {
      "cell_type": "markdown",
      "metadata": {
        "id": "XPz6s60tsxut"
      },
      "source": [
        "## Pré-processamento dos Dados\n",
        "- **Tratamento de Datas:** Conversão da coluna de datas para o formato `datetime` e, se necessário, definição da coluna de data como índice.\n",
        "- **Limpeza dos Dados:** Identificação e tratamento de valores ausentes ou inconsistentes.\n",
        "- **Normalização:** Escalonamento dos preços para facilitar o treinamento do modelo.\n",
        "- **Criação de Sequências Temporais:** Transformação dos dados em sequências (por exemplo, utilizando os últimos 30 dias de preços para prever o preço do dia seguinte), garantindo que a ordem temporal seja preservada."
      ]
    },
    {
      "cell_type": "code",
      "execution_count": 4,
      "metadata": {
        "colab": {
          "base_uri": "https://localhost:8080/"
        },
        "id": "TAAve0fUsxut",
        "outputId": "a6b4a3d5-837c-4920-830d-87c70884c914"
      },
      "outputs": [
        {
          "name": "stdout",
          "output_type": "stream",
          "text": [
            "Collecting matplotlib\n",
            "  Downloading matplotlib-3.10.1-cp313-cp313-win_amd64.whl.metadata (11 kB)\n",
            "Collecting contourpy>=1.0.1 (from matplotlib)\n",
            "  Using cached contourpy-1.3.1-cp313-cp313-win_amd64.whl.metadata (5.4 kB)\n",
            "Collecting cycler>=0.10 (from matplotlib)\n",
            "  Using cached cycler-0.12.1-py3-none-any.whl.metadata (3.8 kB)\n",
            "Collecting fonttools>=4.22.0 (from matplotlib)\n",
            "  Using cached fonttools-4.56.0-cp313-cp313-win_amd64.whl.metadata (103 kB)\n",
            "Collecting kiwisolver>=1.3.1 (from matplotlib)\n",
            "  Using cached kiwisolver-1.4.8-cp313-cp313-win_amd64.whl.metadata (6.3 kB)\n",
            "Requirement already satisfied: numpy>=1.23 in c:\\users\\vinic\\appdata\\local\\programs\\python\\python313\\lib\\site-packages (from matplotlib) (2.2.2)\n",
            "Requirement already satisfied: packaging>=20.0 in c:\\users\\vinic\\appdata\\roaming\\python\\python313\\site-packages (from matplotlib) (24.2)\n",
            "Requirement already satisfied: pillow>=8 in c:\\users\\vinic\\appdata\\local\\programs\\python\\python313\\lib\\site-packages (from matplotlib) (11.1.0)\n",
            "Requirement already satisfied: pyparsing>=2.3.1 in c:\\users\\vinic\\appdata\\local\\programs\\python\\python313\\lib\\site-packages (from matplotlib) (3.2.1)\n",
            "Requirement already satisfied: python-dateutil>=2.7 in c:\\users\\vinic\\appdata\\roaming\\python\\python313\\site-packages (from matplotlib) (2.9.0.post0)\n",
            "Requirement already satisfied: six>=1.5 in c:\\users\\vinic\\appdata\\local\\programs\\python\\python313\\lib\\site-packages (from python-dateutil>=2.7->matplotlib) (1.17.0)\n",
            "Downloading matplotlib-3.10.1-cp313-cp313-win_amd64.whl (8.1 MB)\n",
            "   ---------------------------------------- 0.0/8.1 MB ? eta -:--:--\n",
            "   --- ------------------------------------ 0.8/8.1 MB 3.1 MB/s eta 0:00:03\n",
            "   ---------- ----------------------------- 2.1/8.1 MB 5.0 MB/s eta 0:00:02\n",
            "   --------------- ------------------------ 3.1/8.1 MB 4.8 MB/s eta 0:00:02\n",
            "   -------------------- ------------------- 4.2/8.1 MB 5.6 MB/s eta 0:00:01\n",
            "   ------------------------ --------------- 5.0/8.1 MB 4.7 MB/s eta 0:00:01\n",
            "   ----------------------------- ---------- 6.0/8.1 MB 4.8 MB/s eta 0:00:01\n",
            "   ---------------------------------------- 8.1/8.1 MB 5.7 MB/s eta 0:00:00\n",
            "Using cached contourpy-1.3.1-cp313-cp313-win_amd64.whl (220 kB)\n",
            "Using cached cycler-0.12.1-py3-none-any.whl (8.3 kB)\n",
            "Using cached fonttools-4.56.0-cp313-cp313-win_amd64.whl (2.2 MB)\n",
            "Using cached kiwisolver-1.4.8-cp313-cp313-win_amd64.whl (71 kB)\n",
            "Installing collected packages: kiwisolver, fonttools, cycler, contourpy, matplotlib\n",
            "Successfully installed contourpy-1.3.1 cycler-0.12.1 fonttools-4.56.0 kiwisolver-1.4.8 matplotlib-3.10.1\n"
          ]
        }
      ],
      "source": [
        "!pip install matplotlib"
      ]
    },
    {
      "cell_type": "code",
      "execution_count": 5,
      "metadata": {
        "id": "e501JHM_sxut"
      },
      "outputs": [],
      "source": [
        "import pandas as pd\n",
        "import numpy as np\n",
        "from sklearn.preprocessing import MinMaxScaler\n",
        "\n",
        "\n",
        "df = record_set_df.copy()\n",
        "\n",
        "columns_mapping = {\n",
        "    'ProductPriceIndex.csv/productname': 'productname',\n",
        "    'ProductPriceIndex.csv/date': 'date',\n",
        "    'ProductPriceIndex.csv/farmprice': 'farmprice',\n",
        "    'ProductPriceIndex.csv/atlantaretail': 'atlantaretail',\n",
        "    'ProductPriceIndex.csv/chicagoretail': 'chicagoretail',\n",
        "    'ProductPriceIndex.csv/losangelesretail': 'losangelesretail',\n",
        "    'ProductPriceIndex.csv/newyorkretail': 'newyorkretail',\n",
        "    'ProductPriceIndex.csv/averagespread': 'averagespread'\n",
        "}\n",
        "df = df.rename(columns=columns_mapping)\n",
        "\n",
        "for col in df.columns:\n",
        "    if df[col].dtype == object:\n",
        "        if len(df) > 0 and isinstance(df[col].iloc[0], bytes):\n",
        "            df[col] = df[col].apply(lambda x: x.decode('utf-8') if isinstance(x, bytes) else x)\n",
        "\n",
        "df['date'] = pd.to_datetime(df['date'])\n",
        "df = df.loc[:, ~df.columns.duplicated()]"
      ]
    },
    {
      "cell_type": "code",
      "execution_count": 6,
      "metadata": {
        "colab": {
          "base_uri": "https://localhost:8080/"
        },
        "id": "0gT79r8xvP_d",
        "outputId": "5d871161-23a7-489f-96b9-5440eaf13174"
      },
      "outputs": [
        {
          "name": "stdout",
          "output_type": "stream",
          "text": [
            "Valores ausentes nas colunas de preço:\n",
            " farmprice           1\n",
            "atlantaretail       1\n",
            "chicagoretail       0\n",
            "losangelesretail    0\n",
            "newyorkretail       8\n",
            "dtype: int64\n"
          ]
        }
      ],
      "source": [
        "# 2. LIMPEZA DOS DADOS\n",
        "# Remover linhas sem nome de produto\n",
        "df = df.dropna(subset=['productname'])\n",
        "\n",
        "# Converter colunas de preço para númerico (remover $ e converter para float)\n",
        "price_columns = ['farmprice', 'atlantaretail', 'chicagoretail',\n",
        "                'losangelesretail', 'newyorkretail']\n",
        "\n",
        "for col in price_columns:\n",
        "    # Tratar strings vazias e converter para float com tratamento de erros\n",
        "    df[col] = df[col].replace('', np.nan)  # Substituir strings vazias por NaN\n",
        "    df[col] = df[col].str.replace('$', '', regex=False)  # Remover $\n",
        "    df[col] = pd.to_numeric(df[col], errors='coerce')  # Converter para float, forçando erros para NaN\n",
        "\n",
        "# Verificar valores ausentes nas colunas de preço\n",
        "missing_values = df[price_columns].isna().sum()\n",
        "print(\"Valores ausentes nas colunas de preço:\\n\", missing_values)\n",
        "\n",
        "# Preencher valores ausentes com a média da coluna\n",
        "for col in price_columns:\n",
        "    df[col] = df[col].fillna(df[col].mean())\n",
        "\n",
        "# Recalcular a coluna averagespread\n",
        "df['averagespread'] = ((df[price_columns[1:]].mean(axis=1) / df['farmprice'] - 1) * 100)\n",
        "\n"
      ]
    },
    {
      "cell_type": "code",
      "execution_count": 7,
      "metadata": {
        "id": "_bxn_UdIvYEl"
      },
      "outputs": [],
      "source": [
        "# 3. NORMALIZAÇÃO\n",
        "# Criar versão normalizada dos dados para os preços\n",
        "scaler = MinMaxScaler()\n",
        "df_normalized = df.copy()\n",
        "df_normalized[price_columns] = scaler.fit_transform(df[price_columns])"
      ]
    },
    {
      "cell_type": "code",
      "execution_count": 8,
      "metadata": {
        "colab": {
          "base_uri": "https://localhost:8080/"
        },
        "id": "8NNd1usjvLdg",
        "outputId": "f914c4c5-4523-4a5d-8214-9e127faf2c35"
      },
      "outputs": [
        {
          "name": "stdout",
          "output_type": "stream",
          "text": [
            "Produto: Strawberries, Formato das sequências: X (943, 30), y (943,)\n",
            "Produto: Romaine Lettuce, Formato das sequências: X (983, 30), y (983,)\n",
            "Produto: Red Leaf Lettuce, Formato das sequências: X (984, 30), y (984,)\n"
          ]
        }
      ],
      "source": [
        "# 4. CRIAÇÃO DE SEQUÊNCIAS TEMPORAIS\n",
        "# Ordenar por produto e data\n",
        "df_sorted = df.sort_values(['productname', 'date'])\n",
        "\n",
        "df_time = df.copy()\n",
        "df_time.set_index('date', inplace=True)\n",
        "\n",
        "def create_sequences(data, target_col, sequence_length=30):\n",
        "    X, y = [], []\n",
        "    values = data[target_col].values\n",
        "\n",
        "    for i in range(len(values) - sequence_length):\n",
        "        X.append(values[i:i+sequence_length])\n",
        "        y.append(values[i+sequence_length])\n",
        "\n",
        "    return np.array(X), np.array(y)\n",
        "\n",
        "# Criar DataFrames individuais por produto\n",
        "products = df['productname'].unique()\n",
        "product_dfs = {}\n",
        "\n",
        "for product in products:\n",
        "    product_df = df[df['productname'] == product].sort_values('date')\n",
        "    if len(product_df) > 30:  # Garantir que há dados suficientes para sequências\n",
        "        product_dfs[product] = product_df\n",
        "\n",
        "# Exemplos de criação de sequências para alguns produtos\n",
        "sequence_data = {}\n",
        "for product, product_df in list(product_dfs.items())[:3]:  # Processar apenas os 3 primeiros produtos\n",
        "    if len(product_df) > 30:\n",
        "        X, y = create_sequences(product_df, 'farmprice', sequence_length=30)\n",
        "        sequence_data[product] = (X, y)\n",
        "        print(f\"Produto: {product}, Formato das sequências: X {X.shape}, y {y.shape}\")\n",
        "\n",
        "df.to_csv('produce_prices_preprocessed.csv', index=False)\n",
        "df_normalized.to_csv('produce_prices_normalized.csv', index=False)\n",
        "df_time.to_csv('produce_prices_time_indexed.csv')\n"
      ]
    },
    {
      "cell_type": "markdown",
      "metadata": {
        "id": "L2QaOHF3sxuu"
      },
      "source": [
        "## Definição da Arquitetura da RNN\n",
        "- **Modelo:** Criação de uma classe para a RNN, definindo:\n",
        "  - Uma camada recorrente (pode ser uma RNN simples, LSTM ou GRU).\n",
        "  - Uma camada de saída que gera a previsão do preço.\n",
        "- **Funcionamento:** Explicação de como a RNN utiliza o histórico de preços para aprender os padrões temporais e realizar as previsões."
      ]
    },
    {
      "cell_type": "code",
      "execution_count": null,
      "metadata": {},
      "outputs": [],
      "source": [
        "# 5. DEFINIÇÃO DA ARQUITETURA DA RNN\n",
        "import tensorflow as tf\n",
        "from tensorflow.keras.models import Model\n",
        "from tensorflow.keras.layers import LSTM, Dense\n",
        "\n",
        "# Criamos uma classe para a RNN que utiliza uma camada LSTM e uma camada densa na saída\n",
        "class RNNPricePredictor(Model):\n",
        "    def __init__(self, units=50):\n",
        "        super(RNNPricePredictor, self).__init__()\n",
        "        # Camada recorrente LSTM para capturar os padrões temporais dos preços\n",
        "        self.lstm = LSTM(units, activation='tanh')\n",
        "        # Camada de saída que gera a previsão do preço (saída contínua)\n",
        "        self.dense = Dense(1, activation='linear')\n",
        "    \n",
        "    def call(self, inputs):\n",
        "        # A RNN recebe uma sequência histórica de preços, por exemplo,\n",
        "        # uma sequência de 30 valores (últimos 30 períodos)\n",
        "        x = self.lstm(inputs)\n",
        "        # A camada densa transforma os padrões extraídos em uma previsão de preço\n",
        "        output = self.dense(x)\n",
        "        return output\n",
        "\n",
        "# Instanciando e compilando o modelo\n",
        "model = RNNPricePredictor(units=50)\n",
        "model.compile(optimizer='adam', loss='mean_squared_error')\n",
        "\n",
        "# Para visualizar a arquitetura do modelo, definimos o formato da entrada:\n",
        "# Supondo que cada sequência tem 30 passos de tempo e 1 feature (ex.: 'farmprice')\n",
        "model.build(input_shape=(None, 30, 1))\n",
        "model.summary()\n",
        "\n",
        "# Explicação:\n",
        "# - O modelo RNNPricePredictor é composto por:\n",
        "#   - Uma camada LSTM que processa a sequência de preços históricos,\n",
        "#     aprendendo os padrões e relações temporais dos dados.\n",
        "#   - Uma camada densa que gera a previsão do próximo preço com base nos padrões\n",
        "#     aprendidos pela LSTM.\n",
        "#\n",
        "# - Durante o treinamento, o modelo receberá sequências (por exemplo, os preços dos últimos 30 períodos)\n",
        "#   e aprenderá a prever o preço do período seguinte. A LSTM é fundamental para capturar dependências\n",
        "#   temporais, enquanto a camada densa converte essas informações em uma saída numérica contínua.\n"
      ]
    },
    {
      "cell_type": "markdown",
      "metadata": {
        "id": "nNp7hsq9sxuu"
      },
      "source": [
        "## Configuração do Treinamento\n",
        "- **Preparação dos Dados:** Conversão das sequências e dos valores-alvo em tensores (caso use PyTorch, por exemplo) e criação de DataLoaders para facilitar o processamento em batches.\n",
        "- **Definição da Função de Perda e Otimizador:** Uso de uma métrica de erro (como o Mean Squared Error - MSE) e escolha de um otimizador (por exemplo, Adam).\n",
        "- **Configuração de Hiperparâmetros:** Definição do número de épocas, tamanho do batch, taxa de aprendizado, entre outros."
      ]
    },
    {
      "cell_type": "markdown",
      "metadata": {
        "id": "KWVLTlrLsxuu"
      },
      "source": [
        "## Treinamento do Modelo\n",
        "- **Loop de Treinamento:** Processamento dos batches de dados, cálculo da perda, realização do backpropagation e atualização dos pesos.\n",
        "- **Monitoramento:** Registro e visualização da evolução da perda durante o treinamento para acompanhar o desempenho do modelo."
      ]
    },
    {
      "cell_type": "markdown",
      "metadata": {
        "id": "h-8gJyBXsxuu"
      },
      "source": [
        "## Avaliação e Predição\n",
        "- **Avaliação:** Utilização de um conjunto de teste para avaliar a performance do modelo, comparando as previsões com os valores reais.\n",
        "- **Visualização dos Resultados:** Criação de gráficos que mostrem as previsões versus os valores reais para identificar se o modelo está capturando os padrões esperados."
      ]
    },
    {
      "cell_type": "markdown",
      "metadata": {
        "id": "z9-gNE_Isxuv"
      },
      "source": [
        "## Conclusões e Próximos Passos\n",
        "- **Resumo dos Resultados:** Discussão sobre o desempenho do modelo e os principais aprendizados obtidos durante o projeto.\n",
        "- **Limitações e Melhorias:** Identificação das limitações atuais e sugestões de possíveis melhorias, como ajuste de hiperparâmetros ou experimentação com arquiteturas mais avançadas (por exemplo, LSTM ou GRU).\n",
        "- **Perspectivas Futuras:** Ideias para expandir o projeto, aplicando a metodologia a outros datasets ou integrando novas fontes de dados."
      ]
    }
  ],
  "metadata": {
    "colab": {
      "provenance": []
    },
    "kernelspec": {
      "display_name": "Python 3",
      "language": "python",
      "name": "python3"
    },
    "language_info": {
      "codemirror_mode": {
        "name": "ipython",
        "version": 3
      },
      "file_extension": ".py",
      "mimetype": "text/x-python",
      "name": "python",
      "nbconvert_exporter": "python",
      "pygments_lexer": "ipython3",
      "version": "3.13.1"
    }
  },
  "nbformat": 4,
  "nbformat_minor": 0
}
